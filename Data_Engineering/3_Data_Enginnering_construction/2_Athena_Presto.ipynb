{
 "cells": [
  {
   "cell_type": "code",
   "execution_count": null,
   "metadata": {},
   "outputs": [],
   "source": [
    "# Presto (One can even query data from multiple data sources within a single query)"
   ]
  },
  {
   "cell_type": "code",
   "execution_count": null,
   "metadata": {},
   "outputs": [],
   "source": [
    "# Athena(Serverless)"
   ]
  },
  {
   "cell_type": "markdown",
   "metadata": {},
   "source": [
    "<img src=\"./imgs/3_1.png\" width=\"100%\">"
   ]
  },
  {
   "cell_type": "code",
   "execution_count": null,
   "metadata": {},
   "outputs": [],
   "source": [
    "# CREATE EXTERNAL TABLE IF NOT EXISTS top_tracks(\n",
    "#   id string,\n",
    "#   artist_id string,\n",
    "#   name string,\n",
    "#   popularity int,\n",
    "#   external_url string\n",
    "# ) PARTITIONED BY (dt string)\n",
    "# STORED AS PARQUET LOCATION 's3://spotify--artist/top-tracks/' tblproperties(\"parquet.compress\"=\"SNAPPY\")\n",
    "\n",
    "# MSCK REPAIR TABLE top_tracks\n",
    "\n",
    "\n",
    "# #SELECT * FROM top_tracks LIMIT 10\n",
    "\n",
    "\n",
    "# CREATE EXTERNAL TABLE IF NOT EXISTS audio_features(\n",
    "#   id string,\n",
    "#   danceability DOUBLE,\n",
    "#   energy DOUBLE,\n",
    "#   key int,\n",
    "#   loudness DOUBLE,\n",
    "#   mode int,\n",
    "#   speechiness DOUBLE,\n",
    "#   acousticness DOUBLE,\n",
    "#   instrumentalness DOUBLE\n",
    "# ) PARTITIONED BY (dt string)\n",
    "# STORED AS PARQUET LOCATION 's3://spotify--artist/audio-features/' tblproperties(\"parquet.compress\"=\"SNAPPY\")\n",
    "\n",
    "# MSCK REPAIR TABLE audio_features\n",
    "\n",
    "# SELECT * FROM audio_features LIMIT 10"
   ]
  },
  {
   "cell_type": "code",
   "execution_count": null,
   "metadata": {},
   "outputs": [],
   "source": [
    "# googling에서 presto function등을 통해 syntax를 보자."
   ]
  },
  {
   "cell_type": "code",
   "execution_count": null,
   "metadata": {},
   "outputs": [],
   "source": []
  },
  {
   "cell_type": "code",
   "execution_count": null,
   "metadata": {},
   "outputs": [],
   "source": []
  },
  {
   "cell_type": "code",
   "execution_count": null,
   "metadata": {},
   "outputs": [],
   "source": []
  }
 ],
 "metadata": {
  "kernelspec": {
   "display_name": "Python 3",
   "language": "python",
   "name": "python3"
  },
  "language_info": {
   "codemirror_mode": {
    "name": "ipython",
    "version": 3
   },
   "file_extension": ".py",
   "mimetype": "text/x-python",
   "name": "python",
   "nbconvert_exporter": "python",
   "pygments_lexer": "ipython3",
   "version": "3.7.6"
  }
 },
 "nbformat": 4,
 "nbformat_minor": 2
}
