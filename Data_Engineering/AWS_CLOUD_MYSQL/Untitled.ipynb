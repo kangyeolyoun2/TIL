{
 "cells": [
  {
   "cell_type": "code",
   "execution_count": null,
   "metadata": {},
   "outputs": [],
   "source": [
    "# 1 AWS -> Database(RDS) -> create database -> MySQL"
   ]
  },
  {
   "cell_type": "markdown",
   "metadata": {},
   "source": [
    "<img src=\"./imgs/1_1.png\" width=\"60%\">"
   ]
  },
  {
   "cell_type": "markdown",
   "metadata": {},
   "source": [
    "<img src=\"./imgs/1_2.png\" width=\"60%\">"
   ]
  },
  {
   "cell_type": "code",
   "execution_count": null,
   "metadata": {},
   "outputs": [],
   "source": [
    "#Credential Settings 는 database의 연결될 마스터 계정등 설정하고 비밀번호 설정 ㅇㅇ"
   ]
  },
  {
   "cell_type": "markdown",
   "metadata": {},
   "source": [
    "<img src=\"./imgs/1_3.png\" width=\"60%\">"
   ]
  },
  {
   "cell_type": "code",
   "execution_count": null,
   "metadata": {},
   "outputs": [],
   "source": [
    "# Storage type (IOPS) 는 얼마나 스토리지를 빠르게 인풋 ㅏㅇ웃풋 가능하게 할 수 있을지 설정."
   ]
  },
  {
   "cell_type": "markdown",
   "metadata": {},
   "source": [
    "<img src=\"./imgs/1_4.png\" width=\"60%\">"
   ]
  },
  {
   "cell_type": "code",
   "execution_count": null,
   "metadata": {},
   "outputs": [],
   "source": [
    "# Multi-AZ를 클릭해줄 경우, 미국 한국 서버 두개에서 사용할때 동일한 성능을 나타내준다. "
   ]
  },
  {
   "cell_type": "code",
   "execution_count": null,
   "metadata": {},
   "outputs": [],
   "source": []
  },
  {
   "cell_type": "markdown",
   "metadata": {},
   "source": [
    "### Conneting Database from terminal"
   ]
  },
  {
   "cell_type": "code",
   "execution_count": null,
   "metadata": {},
   "outputs": [],
   "source": [
    "# Database 클릭하여서\n",
    "# `Public accessibility` 를 Yes로 해준다.\\\n",
    "# Security 부분의 default를 눌러서 Inbound도 설정을 잘 해준다."
   ]
  },
  {
   "cell_type": "code",
   "execution_count": null,
   "metadata": {},
   "outputs": [],
   "source": []
  },
  {
   "cell_type": "code",
   "execution_count": null,
   "metadata": {},
   "outputs": [],
   "source": [
    "# Terminal 에서 직접 연결해봅시당.\n",
    "\n",
    "# `mysql --help` 를 치면 다양한 옵션들이 뜹니다. (port 와 host가 중요 정보다. user, pw)\n",
    "\n",
    "# mysql -h (endpoint) -P (port number) -u kangyeol -p\n",
    "# 다음 패쓰워드 입력해줍니다. 이렇게 되면 iterm에서 연결완료\n"
   ]
  },
  {
   "cell_type": "code",
   "execution_count": null,
   "metadata": {},
   "outputs": [],
   "source": []
  },
  {
   "cell_type": "markdown",
   "metadata": {},
   "source": [
    "### table 생성하기"
   ]
  },
  {
   "cell_type": "code",
   "execution_count": 2,
   "metadata": {},
   "outputs": [],
   "source": [
    "# SHOW DATABASES; \n",
    "# CREATE DATABASE production;\n",
    "# use production;\n",
    "# show tables;\n",
    "# 등등의 command는 구글에 mysql reference를 쳐서 하자.\n",
    "\n"
   ]
  },
  {
   "cell_type": "code",
   "execution_count": null,
   "metadata": {},
   "outputs": [],
   "source": [
    "# create table people (first_name VARCHAR(20), last_name VARCHAR(20), age INT);\n",
    "# show tables;"
   ]
  },
  {
   "cell_type": "code",
   "execution_count": null,
   "metadata": {},
   "outputs": [],
   "source": []
  },
  {
   "cell_type": "markdown",
   "metadata": {},
   "source": [
    "### Entity Relationship Diagram : 데이터 모델링 설계 과정에서 사용하는 모델로 약속된 기호를 이용하여 데이터 베이스의 구조를  쉽게이해"
   ]
  },
  {
   "cell_type": "code",
   "execution_count": null,
   "metadata": {},
   "outputs": [],
   "source": [
    "# Entities: 사람, 장소 물건, 사건, 개념 등 어떠한 개체\n",
    "# Attributes: 엔터티의 속성(사람: 성, 이름, 성별, 나이 등)\n",
    "# Relationships: 엔터티간의 관계"
   ]
  },
  {
   "cell_type": "code",
   "execution_count": null,
   "metadata": {},
   "outputs": [],
   "source": []
  },
  {
   "cell_type": "markdown",
   "metadata": {},
   "source": [
    "### Primary Key & Unique Key"
   ]
  },
  {
   "cell_type": "code",
   "execution_count": null,
   "metadata": {},
   "outputs": [],
   "source": [
    "# Primary Key = 테이블에 하나밖에 없는 유일한 구별 값\n",
    "\n",
    "# ex) artist 테이블에서\n",
    "# Id, Name, Followers, Populary, URL 등에서... ID가 프라미어리 되겠다. 고유 아이디는 아티스트를 가리킴\n",
    "\n",
    "# Id가 빈칸 이거나, 중복이 될경우 에러가 뜨게된다. 퍼포먼스도 상승효과가 일어난다.\n",
    "\n",
    "\n",
    "\n",
    "# Foreign Key는 다른 테이블의 키 값\n",
    "# Ex) artists 테이블, artist_genres 테이블 2개가 있을경우\n",
    "# artist_genres에서 여러가지 장르를 가질 수 있다. 여기서 Artist Id 를 Foreign key로 놓게 되면 중복적인 \n",
    "# 값들이 들어갈 수 있다. Null 값도 Ok.\n",
    "\n",
    "\n",
    "\n",
    "# Unique & Primary key의 차이:\n",
    "# Primary 는 Null을 허용하지 않으나, 유니크는 괜찮다.\n",
    "# Primary는 index를 가지나, 유니크는 non-clustered임. 하지만 목차를 보고 찾는형식이기에 좀 느리다."
   ]
  },
  {
   "cell_type": "code",
   "execution_count": null,
   "metadata": {},
   "outputs": [],
   "source": []
  },
  {
   "cell_type": "code",
   "execution_count": null,
   "metadata": {},
   "outputs": [],
   "source": [
    "### Spotify 데이터를 보면서 어떤 데이터 테이블을 만들어야 할지 한번 봅시다."
   ]
  },
  {
   "cell_type": "markdown",
   "metadata": {},
   "source": [
    "<img src=\"./imgs/1_6.png\" width=\"60%\">"
   ]
  },
  {
   "cell_type": "code",
   "execution_count": null,
   "metadata": {},
   "outputs": [],
   "source": [
    "# devloper spotify들어가서 get an artist를 봅시다."
   ]
  },
  {
   "cell_type": "markdown",
   "metadata": {},
   "source": [
    "<img src=\"./imgs/1_7.png\" width=\"60%\">"
   ]
  },
  {
   "cell_type": "code",
   "execution_count": null,
   "metadata": {},
   "outputs": [],
   "source": [
    "# json 형식이고, external_urls의 경우 dict형태로 들어가있다.\n",
    "# 우리가 원하는건 url만 원하고, \n",
    "# follower 형태에서도 total데이터만 원한다.\n",
    "# genre 도 리스트형식의 데이터만 원한다.\n",
    "# imgs에서도 url정도가 필요하다.\n",
    "\n",
    "# 다음으로\n",
    "# top tracks를 가서, name은 뭔지 url은 뭔지\n",
    "# popularity등도 보고, \n",
    "\n",
    "\n",
    "# 다음으로 Tracks -> Audio feature에 대해 보자( 스포티파이가 뭐 노래에 대한 데이터를 수치화한곳)"
   ]
  },
  {
   "cell_type": "code",
   "execution_count": null,
   "metadata": {},
   "outputs": [],
   "source": []
  },
  {
   "cell_type": "markdown",
   "metadata": {},
   "source": [
    "### Spotify의 테이블 구조 만들것."
   ]
  },
  {
   "cell_type": "markdown",
   "metadata": {},
   "source": [
    "<img src=\"./imgs/1_8.png\" width=\"60%\">"
   ]
  },
  {
   "cell_type": "code",
   "execution_count": null,
   "metadata": {},
   "outputs": [],
   "source": [
    "# artist_genres 에서 Genre는 리스트 형태인데 마이시퀄은 불가능하므로, 또 테이블을 만들어준다."
   ]
  },
  {
   "cell_type": "code",
   "execution_count": null,
   "metadata": {},
   "outputs": [],
   "source": []
  },
  {
   "cell_type": "code",
   "execution_count": null,
   "metadata": {},
   "outputs": [],
   "source": []
  }
 ],
 "metadata": {
  "kernelspec": {
   "display_name": "Python 3",
   "language": "python",
   "name": "python3"
  },
  "language_info": {
   "codemirror_mode": {
    "name": "ipython",
    "version": 3
   },
   "file_extension": ".py",
   "mimetype": "text/x-python",
   "name": "python",
   "nbconvert_exporter": "python",
   "pygments_lexer": "ipython3",
   "version": "3.7.6"
  }
 },
 "nbformat": 4,
 "nbformat_minor": 2
}
