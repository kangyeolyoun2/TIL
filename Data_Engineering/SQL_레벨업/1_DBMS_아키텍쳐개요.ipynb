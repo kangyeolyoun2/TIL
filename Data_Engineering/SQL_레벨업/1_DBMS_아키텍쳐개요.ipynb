{
 "cells": [
  {
   "cell_type": "code",
   "execution_count": 1,
   "metadata": {},
   "outputs": [],
   "source": [
    "# 나중에 다 읽고 천천히 정리 todolist;"
   ]
  },
  {
   "cell_type": "markdown",
   "metadata": {},
   "source": [
    "## 1. DBMS 아키텍처 개요\n",
    "---\n",
    "### 1. 쿼리평가 엔진\n",
    "\n",
    "- 쿼리평가 엔진은 사용자로부터 입력받은 SQL구문을 분석하고, 어떤 순서로 기억장치의 데이터에 접근할지를 결정\n",
    "- `계획` = 실행 계획, 실행플랜\n",
    "- 계획을 세우고 실행하는 DBMS의 핵심 기능을 담당하는 모듈\n",
    "\n",
    "\n",
    "\n",
    "\n",
    "### 2. 버퍼 매니저\n",
    "- DBMS는 버퍼라는 특별한 용도로 사용하는 메모리 영역을 확보해둠. 이 메모리 영역을 관리하는 것이 바로 버퍼 매니저.\n",
    "\n",
    "\n",
    "\n",
    "### 3. 디스크 용량 매니저\n",
    "- 어디에 어떻게 데이터를 저장할지를 관리하며, 데이터의 읽고 쓰기를 제어함.\n",
    "\n",
    "### 4. 트랜잭션 매니저와 락 매니저\n",
    "- 데이터베이스 사람하는 사람은 여러명 입니다. 필요시 데이터에 락을 걸어 다른사람의 요청을 대기시키는 것\n",
    "\n",
    "### 5. 리커버리 매니저\n",
    "- 복구해주는 매니저.\n",
    "\n",
    "---\n",
    "---\n",
    "## 2. DBMS와 버퍼\n",
    "\n",
    "\n",
    "\n",
    "\n",
    "---"
   ]
  },
  {
   "cell_type": "code",
   "execution_count": null,
   "metadata": {},
   "outputs": [],
   "source": []
  }
 ],
 "metadata": {
  "kernelspec": {
   "display_name": "Python 3",
   "language": "python",
   "name": "python3"
  },
  "language_info": {
   "codemirror_mode": {
    "name": "ipython",
    "version": 3
   },
   "file_extension": ".py",
   "mimetype": "text/x-python",
   "name": "python",
   "nbconvert_exporter": "python",
   "pygments_lexer": "ipython3",
   "version": "3.7.6"
  }
 },
 "nbformat": 4,
 "nbformat_minor": 2
}
