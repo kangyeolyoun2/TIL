{
 "cells": [
  {
   "cell_type": "markdown",
   "metadata": {},
   "source": [
    "### mysql 연결"
   ]
  },
  {
   "cell_type": "code",
   "execution_count": 1,
   "metadata": {},
   "outputs": [],
   "source": [
    "import pickle\n",
    "\n",
    "file = open(\"/Users/kangyeolyoun/Desktop/pickle file/aws_mysql_db\", \"rb\")\n",
    "data = pickle.load(file)"
   ]
  },
  {
   "cell_type": "code",
   "execution_count": 22,
   "metadata": {},
   "outputs": [],
   "source": [
    "import sys\n",
    "import requests\n",
    "import base64\n",
    "import json\n",
    "import logging\n",
    "import pymysql\n",
    "\n",
    "\n",
    "\n",
    "host = data[0]\n",
    "port = int(data[1])\n",
    "username = \"kangyeol\"\n",
    "database = data[2]\n",
    "password = data[3]\n",
    "\n",
    "def main():\n",
    "    \n",
    "    try:\n",
    "        conn = pymysql.connect(host, user=username, passwd=password, db=database,\\\n",
    "                             port=port, use_unicode=True, charset=\"utf8\")\n",
    "        cursor = conn.cursor()\n",
    "    except:\n",
    "        logging.error(\"could not connect to RDS\")\n",
    "        sys.exit(1)\n",
    "        \n",
    "    cursor.execute(\"SHOW TABLES\")\n",
    "    #fetchall 은 모든 데이터를 가지고 오겠다.\n",
    "    print(cursor.fetchall())\n",
    "    \n",
    "    \n",
    "    \n",
    "    print(\"success\")\n",
    "    sys.exit(0)"
   ]
  },
  {
   "cell_type": "code",
   "execution_count": 23,
   "metadata": {},
   "outputs": [
    {
     "name": "stdout",
     "output_type": "stream",
     "text": [
      "(('people',),)\n",
      "success\n"
     ]
    },
    {
     "ename": "SystemExit",
     "evalue": "0",
     "output_type": "error",
     "traceback": [
      "An exception has occurred, use %tb to see the full traceback.\n",
      "\u001b[0;31mSystemExit\u001b[0m\u001b[0;31m:\u001b[0m 0\n"
     ]
    }
   ],
   "source": [
    "main()"
   ]
  },
  {
   "cell_type": "code",
   "execution_count": null,
   "metadata": {},
   "outputs": [],
   "source": []
  },
  {
   "cell_type": "markdown",
   "metadata": {},
   "source": [
    "### Spotify 테이블 만들기 (artist, artist_genres)"
   ]
  },
  {
   "cell_type": "markdown",
   "metadata": {},
   "source": [
    "<img src=\"./imgs/2_1.png\" width=\"60%\">"
   ]
  },
  {
   "cell_type": "code",
   "execution_count": null,
   "metadata": {},
   "outputs": [],
   "source": [
    "# MYSQL 접속후 CREATE TABLE artists (id VARCHAR(255), name VARCHAR(255), followers INTEGER, popularity INTEGER, url VARCHAR(255), image_url VARCHAR(255), PRIMARY KEY(id)) ENGINE=InnoDB DEFAULT CHARSET=\"utf8\";\n",
    "# CREATE TABLE artists (id VARCHAR(255), name VARCHAR(255), followers INTEGER, popularity INTEGER, url VARCHAR(255), image_url VARCHAR(255), PRIMARY KEY(id)) ENGINE=InnoDB DEFAULT CHARSET=\"utf8\";\n",
    "# CREATE TABLE artist_genres (artist_id VARCHAR(255), genre VARCHAR(255)) ENGINE=InnoDB DEFAULT CHARSET=\"utf8\";\n",
    "\n",
    "# SHOW CREATE TABLE artists \n"
   ]
  },
  {
   "cell_type": "markdown",
   "metadata": {},
   "source": [
    "### artist_genres 에 data_insert"
   ]
  },
  {
   "cell_type": "code",
   "execution_count": null,
   "metadata": {},
   "outputs": [],
   "source": [
    "# show create table artist_genres;\n",
    "# INSERT INTO artist_genres (artist_id, genre) VALUES ('1234', 'pop');\n",
    "\n",
    "# select * from artist_genres;\n"
   ]
  },
  {
   "cell_type": "markdown",
   "metadata": {},
   "source": [
    "### 똑같은 데이터 insert 방지위해 unique key 설정"
   ]
  },
  {
   "cell_type": "code",
   "execution_count": null,
   "metadata": {},
   "outputs": [],
   "source": [
    "# DROP TABLE artist_genres;\n",
    "# CREATE TABLE artist_genres (artist_id VARCHAR(255), genre VARCHAR(255), UNIQUE KEY(artist_id, genre)) ENGINE=InnoDB DEFAULT CHARSET=\"utf8\";\n",
    "\n",
    "# ALTER TABLE artist_genres ADD COLUMN country VARCHAR(255);\n",
    "#언제 업데이트가 되었는지 추가해줍니다.\n",
    "# ALTER TABLE artist_genres ADD COLUMN updated_at TIMESTAMP DEFAULT CURRENT_TIMESTAMP ON UPDATE CURRENT_TIMESTAMP;\n",
    "\n",
    "# REPLACE 의 경우 key값을 찾아서 지운 후 새로운것을 추가한다. #id 값이 변하기 떄문에... 주의해야한다.\n",
    "# REPLACE INTO artist_genres (artist_id, genre, country) VALUES (\"1234\",\"pop\", \"UK\");\n",
    "\n",
    "# 가장 좋은 방법 (Insert INTO)\n",
    "# INSERT INTO artist_genres (artist_id, genre, country) VALUES(\"1234\", \"rock\", \"FR\") ON DUPLICATE KEY UPDATE artist_id=\"1234\", genre=\"rock\", country=\"FR\";\n",
    "# INSERT INTO artist_genres (artist_id, genre, country) VALUES(\"1234\", \"hip-hop\", \"FR\") ON DUPLICATE KEY UPDATE artist_id=\"1234\", genre=\"hip-hop\", country=\"FR\";\n"
   ]
  },
  {
   "cell_type": "code",
   "execution_count": null,
   "metadata": {},
   "outputs": [],
   "source": []
  },
  {
   "cell_type": "code",
   "execution_count": 5,
   "metadata": {},
   "outputs": [],
   "source": [
    "import sys\n",
    "import requests\n",
    "import base64\n",
    "import json\n",
    "import logging\n",
    "import pymysql\n",
    "\n",
    "\n",
    "\n",
    "host = data[0]\n",
    "port = int(data[1])\n",
    "username = \"kangyeol\"\n",
    "database = data[2]\n",
    "password = data[3]\n",
    "\n",
    "def main():\n",
    "    \n",
    "    try:\n",
    "        conn = pymysql.connect(host, user=username, passwd=password, db=database,\\\n",
    "                             port=port, use_unicode=True, charset=\"utf8\")\n",
    "        cursor = conn.cursor()\n",
    "    except:\n",
    "        logging.error(\"could not connect to RDS\")\n",
    "        sys.exit(1)\n",
    "        \n",
    "    cursor.execute(\"SHOW TABLES\")\n",
    "    #fetchall 은 모든 데이터를 가지고 오겠다.\n",
    "    print(cursor.fetchall())\n",
    "    \n",
    "    #%s 는 string을 의미\n",
    "    query = 'INSERT INTO artist_genres (artist_id, genre) \\\n",
    "    VALUES (\"%s\", \"%s\")' %(\"2345\", 'pop')\n",
    "    cursor.execute(query)\n",
    "    conn.commit()\n",
    "    \n",
    "\n",
    "    sys.exit(0)"
   ]
  },
  {
   "cell_type": "code",
   "execution_count": 6,
   "metadata": {},
   "outputs": [
    {
     "name": "stdout",
     "output_type": "stream",
     "text": [
      "(('artist_genres',), ('artists',), ('people',))\n"
     ]
    },
    {
     "ename": "SystemExit",
     "evalue": "0",
     "output_type": "error",
     "traceback": [
      "An exception has occurred, use %tb to see the full traceback.\n",
      "\u001b[0;31mSystemExit\u001b[0m\u001b[0;31m:\u001b[0m 0\n"
     ]
    }
   ],
   "source": [
    "main()"
   ]
  },
  {
   "cell_type": "code",
   "execution_count": 7,
   "metadata": {},
   "outputs": [],
   "source": [
    "import sys\n",
    "import requests\n",
    "import base64\n",
    "import json\n",
    "import logging\n",
    "import pymysql\n",
    "\n",
    "\n",
    "\n",
    "host = data[0]\n",
    "port = int(data[1])\n",
    "username = \"kangyeol\"\n",
    "database = data[2]\n",
    "password = data[3]\n",
    "\n",
    "def main():\n",
    "    \n",
    "    try:\n",
    "        conn = pymysql.connect(host, user=username, passwd=password, db=database,\\\n",
    "                             port=port, use_unicode=True, charset=\"utf8\")\n",
    "        cursor = conn.cursor()\n",
    "    except:\n",
    "        logging.error(\"could not connect to RDS\")\n",
    "        sys.exit(1)\n",
    "        \n",
    "    cursor.execute(\"SHOW TABLES\")\n",
    "    #fetchall 은 모든 데이터를 가지고 오겠다.\n",
    "    print(cursor.fetchall())\n",
    "    \n",
    "    # .format\n",
    "    query = 'INSERT INTO artist_genres (artist_id, genre) \\\n",
    "    VALUES (\"{}\", \"{}\")'.format(\"2345\", \"hip-hop\")\n",
    "    cursor.execute(query)\n",
    "    conn.commit()\n",
    "    \n",
    "\n",
    "    sys.exit(0)"
   ]
  },
  {
   "cell_type": "code",
   "execution_count": 8,
   "metadata": {},
   "outputs": [
    {
     "name": "stdout",
     "output_type": "stream",
     "text": [
      "(('artist_genres',), ('artists',), ('people',))\n"
     ]
    },
    {
     "ename": "SystemExit",
     "evalue": "0",
     "output_type": "error",
     "traceback": [
      "An exception has occurred, use %tb to see the full traceback.\n",
      "\u001b[0;31mSystemExit\u001b[0m\u001b[0;31m:\u001b[0m 0\n"
     ]
    }
   ],
   "source": [
    "main()"
   ]
  },
  {
   "cell_type": "code",
   "execution_count": null,
   "metadata": {},
   "outputs": [],
   "source": []
  },
  {
   "cell_type": "markdown",
   "metadata": {},
   "source": [
    "### Dictionary, JSON Package"
   ]
  },
  {
   "cell_type": "code",
   "execution_count": 38,
   "metadata": {},
   "outputs": [],
   "source": [
    "def get_headers(client_id, client_secret):\n",
    "\n",
    "    endpoint = \"https://accounts.spotify.com/api/token\"\n",
    "    encoded = base64.b64encode(\"{}:{}\".format(client_id, client_secret).encode('utf-8')).decode('ascii')\n",
    "\n",
    "    headers = {\n",
    "        \"Authorization\": \"Basic {}\".format(encoded)\n",
    "    }\n",
    "\n",
    "    payload = {\n",
    "        \"grant_type\": \"client_credentials\"\n",
    "    }\n",
    "\n",
    "    r = requests.post(endpoint, data=payload, headers=headers)\n",
    "\n",
    "    access_token = json.loads(r.text)['access_token']\n",
    "\n",
    "    headers = {\n",
    "        \"Authorization\": \"Bearer {}\".format(access_token)\n",
    "    }\n",
    "\n",
    "    return headers"
   ]
  },
  {
   "cell_type": "code",
   "execution_count": 47,
   "metadata": {},
   "outputs": [],
   "source": [
    "import sys\n",
    "import requests\n",
    "import base64\n",
    "import json\n",
    "import logging\n",
    "import pymysql\n",
    "\n",
    "host = data[0]\n",
    "port = int(data[1])\n",
    "username = \"kangyeol\"\n",
    "database = data[2]\n",
    "password = data[3]\n",
    "client_id = data[4]\n",
    "client_secret = data[5]\n",
    "\n",
    "\n",
    "def main():\n",
    "    \n",
    "    \n",
    "    \n",
    "    try:\n",
    "        conn = pymysql.connect(host, user=username, passwd=password, db=database,\\\n",
    "                             port=port, use_unicode=True, charset=\"utf8\")\n",
    "        cursor = conn.cursor()\n",
    "    except:\n",
    "        logging.error(\"could not connect to RDS\")\n",
    "        sys.exit(1)\n",
    "        \n",
    "    headers = get_headers(client_id, client_secret)\n",
    "    \n",
    "    ## Spotify Search API\n",
    "    params = {\n",
    "        \"q\": \"BTS\",\n",
    "        \"type\": \"artist\",\n",
    "        \"limit\": \"5\"\n",
    "    }\n",
    "    \n",
    "    r = requests.get(\"https://api.spotify.com/v1/search\", params=params, headers=headers)\n",
    "    \n",
    "    # json을 통해서 스트링 형태로 들어온다.\n",
    "    raw = json.loads(r.text)\n",
    "    print(raw[\"artists\"])\n",
    "    sys.exit(0)\n",
    "    \n",
    "    \n"
   ]
  },
  {
   "cell_type": "code",
   "execution_count": 48,
   "metadata": {},
   "outputs": [
    {
     "name": "stdout",
     "output_type": "stream",
     "text": [
      "{'href': 'https://api.spotify.com/v1/search?query=BTS&type=artist&offset=0&limit=5', 'items': [{'external_urls': {'spotify': 'https://open.spotify.com/artist/3Nrfpe0tUJi4K4DXYWgMUX'}, 'followers': {'href': None, 'total': 16226414}, 'genres': ['k-pop', 'k-pop boy group'], 'href': 'https://api.spotify.com/v1/artists/3Nrfpe0tUJi4K4DXYWgMUX', 'id': '3Nrfpe0tUJi4K4DXYWgMUX', 'images': [{'height': 640, 'url': 'https://i.scdn.co/image/0c9057cb30520f9f883a220051260fc66a2f3ffa', 'width': 640}, {'height': 320, 'url': 'https://i.scdn.co/image/34ee854082d0ea4d571e2ecf7f4aecea61270ad0', 'width': 320}, {'height': 160, 'url': 'https://i.scdn.co/image/156147697b696d4a6180e037dc1e2a33117d8d4a', 'width': 160}], 'name': 'BTS', 'popularity': 94, 'type': 'artist', 'uri': 'spotify:artist:3Nrfpe0tUJi4K4DXYWgMUX'}, {'external_urls': {'spotify': 'https://open.spotify.com/artist/51sg5jUqKu2tkbmPlwPrNH'}, 'followers': {'href': None, 'total': 137493}, 'genres': [], 'href': 'https://api.spotify.com/v1/artists/51sg5jUqKu2tkbmPlwPrNH', 'id': '51sg5jUqKu2tkbmPlwPrNH', 'images': [], 'name': 'BTS World', 'popularity': 47, 'type': 'artist', 'uri': 'spotify:artist:51sg5jUqKu2tkbmPlwPrNH'}, {'external_urls': {'spotify': 'https://open.spotify.com/artist/1Dx8CcTQA8bWYen7zXsNW0'}, 'followers': {'href': None, 'total': 92}, 'genres': [], 'href': 'https://api.spotify.com/v1/artists/1Dx8CcTQA8bWYen7zXsNW0', 'id': '1Dx8CcTQA8bWYen7zXsNW0', 'images': [{'height': 640, 'url': 'https://i.scdn.co/image/14d24eb32432f44259c618716659c713508d89db', 'width': 640}, {'height': 300, 'url': 'https://i.scdn.co/image/d03dff8d71073e3ec7e34f0bc6d0c6afa2db3996', 'width': 300}, {'height': 64, 'url': 'https://i.scdn.co/image/f8e0646093672055d9ab6f1c766fb4203b18d39e', 'width': 64}], 'name': 'BTSC', 'popularity': 31, 'type': 'artist', 'uri': 'spotify:artist:1Dx8CcTQA8bWYen7zXsNW0'}, {'external_urls': {'spotify': 'https://open.spotify.com/artist/46SqMLtuMApmIOfROPpWSz'}, 'followers': {'href': None, 'total': 9991}, 'genres': [], 'href': 'https://api.spotify.com/v1/artists/46SqMLtuMApmIOfROPpWSz', 'id': '46SqMLtuMApmIOfROPpWSz', 'images': [{'height': 640, 'url': 'https://i.scdn.co/image/ab67616d0000b27382a0ea4c05c78cb02bdf435c', 'width': 640}, {'height': 300, 'url': 'https://i.scdn.co/image/ab67616d00001e0282a0ea4c05c78cb02bdf435c', 'width': 300}, {'height': 64, 'url': 'https://i.scdn.co/image/ab67616d0000485182a0ea4c05c78cb02bdf435c', 'width': 64}], 'name': 'Bts', 'popularity': 5, 'type': 'artist', 'uri': 'spotify:artist:46SqMLtuMApmIOfROPpWSz'}, {'external_urls': {'spotify': 'https://open.spotify.com/artist/3YLl0gRlOoj3vRFuFDqYIt'}, 'followers': {'href': None, 'total': 1036}, 'genres': ['deep uplifting trance'], 'href': 'https://api.spotify.com/v1/artists/3YLl0gRlOoj3vRFuFDqYIt', 'id': '3YLl0gRlOoj3vRFuFDqYIt', 'images': [{'height': 640, 'url': 'https://i.scdn.co/image/ab67616d0000b2732b8c677df64839d2283e81ab', 'width': 640}, {'height': 300, 'url': 'https://i.scdn.co/image/ab67616d00001e022b8c677df64839d2283e81ab', 'width': 300}, {'height': 64, 'url': 'https://i.scdn.co/image/ab67616d000048512b8c677df64839d2283e81ab', 'width': 64}], 'name': 'Btsound', 'popularity': 21, 'type': 'artist', 'uri': 'spotify:artist:3YLl0gRlOoj3vRFuFDqYIt'}], 'limit': 5, 'next': 'https://api.spotify.com/v1/search?query=BTS&type=artist&offset=5&limit=5', 'offset': 0, 'previous': None, 'total': 42}\n"
     ]
    },
    {
     "ename": "SystemExit",
     "evalue": "0",
     "output_type": "error",
     "traceback": [
      "An exception has occurred, use %tb to see the full traceback.\n",
      "\u001b[0;31mSystemExit\u001b[0m\u001b[0;31m:\u001b[0m 0\n"
     ]
    }
   ],
   "source": [
    "main()"
   ]
  },
  {
   "cell_type": "code",
   "execution_count": 65,
   "metadata": {},
   "outputs": [],
   "source": [
    "import sys\n",
    "import requests\n",
    "import base64\n",
    "import json\n",
    "import logging\n",
    "import pymysql\n",
    "\n",
    "host = data[0]\n",
    "port = int(data[1])\n",
    "username = \"kangyeol\"\n",
    "database = data[2]\n",
    "password = data[3]\n",
    "client_id = data[4]\n",
    "client_secret = data[5]\n",
    "\n",
    "\n",
    "def main():\n",
    "    \n",
    "    \n",
    "    \n",
    "    try:\n",
    "        conn = pymysql.connect(host, user=username, passwd=password, db=database,\\\n",
    "                             port=port, use_unicode=True, charset=\"utf8\")\n",
    "        cursor = conn.cursor()\n",
    "    except:\n",
    "        logging.error(\"could not connect to RDS\")\n",
    "        sys.exit(1)\n",
    "        \n",
    "    headers = get_headers(client_id, client_secret)\n",
    "    \n",
    "    ## Spotify Search API\n",
    "    params = {\n",
    "        \"q\": \"BTS\",\n",
    "        \"type\": \"artist\",\n",
    "        \"limit\": \"5\"\n",
    "    }\n",
    "    \n",
    "    r = requests.get(\"https://api.spotify.com/v1/search\", params=params, headers=headers)\n",
    "    \n",
    "    # json을 통해서 스트링 형태로 들어온다.\n",
    "    raw = json.loads(r.text)\n",
    "    print(raw[\"artists\"].keys())\n",
    "    \n",
    "    print(raw[\"artists\"][\"items\"])\n",
    "    \n",
    "    {\n",
    "        \"id\",\n",
    "        \"name\",\n",
    "        \"followers\"\n",
    "        \"popularirty\"\n",
    "        \"url\"\n",
    "        \"image_url\"\n",
    "    }\n",
    "    \n",
    "    sys.exit(0)\n",
    "    \n",
    "    \n"
   ]
  },
  {
   "cell_type": "code",
   "execution_count": 66,
   "metadata": {},
   "outputs": [
    {
     "name": "stdout",
     "output_type": "stream",
     "text": [
      "dict_keys(['href', 'items', 'limit', 'next', 'offset', 'previous', 'total'])\n",
      "[{'external_urls': {'spotify': 'https://open.spotify.com/artist/3Nrfpe0tUJi4K4DXYWgMUX'}, 'followers': {'href': None, 'total': 16226414}, 'genres': ['k-pop', 'k-pop boy group'], 'href': 'https://api.spotify.com/v1/artists/3Nrfpe0tUJi4K4DXYWgMUX', 'id': '3Nrfpe0tUJi4K4DXYWgMUX', 'images': [{'height': 640, 'url': 'https://i.scdn.co/image/0c9057cb30520f9f883a220051260fc66a2f3ffa', 'width': 640}, {'height': 320, 'url': 'https://i.scdn.co/image/34ee854082d0ea4d571e2ecf7f4aecea61270ad0', 'width': 320}, {'height': 160, 'url': 'https://i.scdn.co/image/156147697b696d4a6180e037dc1e2a33117d8d4a', 'width': 160}], 'name': 'BTS', 'popularity': 94, 'type': 'artist', 'uri': 'spotify:artist:3Nrfpe0tUJi4K4DXYWgMUX'}, {'external_urls': {'spotify': 'https://open.spotify.com/artist/51sg5jUqKu2tkbmPlwPrNH'}, 'followers': {'href': None, 'total': 137493}, 'genres': [], 'href': 'https://api.spotify.com/v1/artists/51sg5jUqKu2tkbmPlwPrNH', 'id': '51sg5jUqKu2tkbmPlwPrNH', 'images': [], 'name': 'BTS World', 'popularity': 47, 'type': 'artist', 'uri': 'spotify:artist:51sg5jUqKu2tkbmPlwPrNH'}, {'external_urls': {'spotify': 'https://open.spotify.com/artist/1Dx8CcTQA8bWYen7zXsNW0'}, 'followers': {'href': None, 'total': 92}, 'genres': [], 'href': 'https://api.spotify.com/v1/artists/1Dx8CcTQA8bWYen7zXsNW0', 'id': '1Dx8CcTQA8bWYen7zXsNW0', 'images': [{'height': 640, 'url': 'https://i.scdn.co/image/14d24eb32432f44259c618716659c713508d89db', 'width': 640}, {'height': 300, 'url': 'https://i.scdn.co/image/d03dff8d71073e3ec7e34f0bc6d0c6afa2db3996', 'width': 300}, {'height': 64, 'url': 'https://i.scdn.co/image/f8e0646093672055d9ab6f1c766fb4203b18d39e', 'width': 64}], 'name': 'BTSC', 'popularity': 31, 'type': 'artist', 'uri': 'spotify:artist:1Dx8CcTQA8bWYen7zXsNW0'}, {'external_urls': {'spotify': 'https://open.spotify.com/artist/46SqMLtuMApmIOfROPpWSz'}, 'followers': {'href': None, 'total': 9991}, 'genres': [], 'href': 'https://api.spotify.com/v1/artists/46SqMLtuMApmIOfROPpWSz', 'id': '46SqMLtuMApmIOfROPpWSz', 'images': [{'height': 640, 'url': 'https://i.scdn.co/image/ab67616d0000b27382a0ea4c05c78cb02bdf435c', 'width': 640}, {'height': 300, 'url': 'https://i.scdn.co/image/ab67616d00001e0282a0ea4c05c78cb02bdf435c', 'width': 300}, {'height': 64, 'url': 'https://i.scdn.co/image/ab67616d0000485182a0ea4c05c78cb02bdf435c', 'width': 64}], 'name': 'Bts', 'popularity': 5, 'type': 'artist', 'uri': 'spotify:artist:46SqMLtuMApmIOfROPpWSz'}, {'external_urls': {'spotify': 'https://open.spotify.com/artist/3YLl0gRlOoj3vRFuFDqYIt'}, 'followers': {'href': None, 'total': 1036}, 'genres': ['deep uplifting trance'], 'href': 'https://api.spotify.com/v1/artists/3YLl0gRlOoj3vRFuFDqYIt', 'id': '3YLl0gRlOoj3vRFuFDqYIt', 'images': [{'height': 640, 'url': 'https://i.scdn.co/image/ab67616d0000b2732b8c677df64839d2283e81ab', 'width': 640}, {'height': 300, 'url': 'https://i.scdn.co/image/ab67616d00001e022b8c677df64839d2283e81ab', 'width': 300}, {'height': 64, 'url': 'https://i.scdn.co/image/ab67616d000048512b8c677df64839d2283e81ab', 'width': 64}], 'name': 'Btsound', 'popularity': 21, 'type': 'artist', 'uri': 'spotify:artist:3YLl0gRlOoj3vRFuFDqYIt'}]\n"
     ]
    },
    {
     "ename": "SystemExit",
     "evalue": "0",
     "output_type": "error",
     "traceback": [
      "An exception has occurred, use %tb to see the full traceback.\n",
      "\u001b[0;31mSystemExit\u001b[0m\u001b[0;31m:\u001b[0m 0\n"
     ]
    }
   ],
   "source": [
    "# keys만 검색하여서 우리가 필요한 정보는 items에 있다는것을 알 수 있다.\n",
    "main()"
   ]
  },
  {
   "cell_type": "code",
   "execution_count": 92,
   "metadata": {},
   "outputs": [],
   "source": [
    "# 원하는 데이터 뽑아오자\n",
    "import sys\n",
    "import requests\n",
    "import base64\n",
    "import json\n",
    "import logging\n",
    "import pymysql\n",
    "\n",
    "host = data[0]\n",
    "port = int(data[1])\n",
    "username = \"kangyeol\"\n",
    "database = data[2]\n",
    "password = data[3]\n",
    "client_id = data[4]\n",
    "client_secret = data[5]\n",
    "\n",
    "\n",
    "def main():\n",
    "    \n",
    "    \n",
    "    \n",
    "    try:\n",
    "        conn = pymysql.connect(host, user=username, passwd=password, db=database,\\\n",
    "                             port=port, use_unicode=True, charset=\"utf8\")\n",
    "        cursor = conn.cursor()\n",
    "    except:\n",
    "        logging.error(\"could not connect to RDS\")\n",
    "        sys.exit(1)\n",
    "        \n",
    "    headers = get_headers(client_id, client_secret)\n",
    "    \n",
    "    ## Spotify Search API\n",
    "    params = {\n",
    "        \"q\": \"BTS\",\n",
    "        \"type\": \"artist\",\n",
    "        \"limit\": \"5\"\n",
    "    }\n",
    "    \n",
    "    r = requests.get(\"https://api.spotify.com/v1/search\", params=params, headers=headers)\n",
    "    \n",
    "    # json을 통해서 스트링 형태로 들어온다.\n",
    "    raw = json.loads(r.text)\n",
    "\n",
    "    \n",
    "    artist_raw = raw[\"artists\"][\"items\"][0]\n",
    "    \n",
    "    if artist_raw[\"name\"] == params[\"q\"]:\n",
    "        artist = {\n",
    "            \"id\": artist_raw[\"id\"],\n",
    "            \"name\": artist_raw[\"name\"],\n",
    "            \"followers\": artist_raw[\"followers\"][\"total\"],\n",
    "            \"popularity\": artist_raw[\"popularity\"],\n",
    "            \"url\": artist_raw[\"external_urls\"][\"spotify\"],\n",
    "            \"image_url\": artist_raw[\"images\"][0][\"url\"]\n",
    "        }\n",
    "    \n",
    "\n",
    "        \n",
    "    query = \"\"\"\n",
    "        INSERT INTO artists (id, name, followers, popularity, url, image_url)\n",
    "        VALUES (\"{}\", \"{}\", {}, {}, \"{}\", \"{}\")\n",
    "        ON DUPLICATE KEY UPDATE id= \"{}\", name= \"{}\", followers={},\\\n",
    "        popularity={}, url=\"{}\", image_url=\"{}\"\n",
    "    \"\"\".format(\n",
    "        artist[\"id\"],\n",
    "        artist[\"name\"],\n",
    "        artist[\"followers\"],\n",
    "        artist[\"popularity\"],\n",
    "        artist[\"url\"],\n",
    "        artist[\"image_url\"],\n",
    "        artist[\"id\"],\n",
    "        artist[\"name\"],\n",
    "        artist[\"followers\"],\n",
    "        artist[\"popularity\"],\n",
    "        artist[\"url\"],\n",
    "        artist[\"image_url\"]\n",
    "    )\n",
    "        \n",
    "    print(query)\n",
    "        \n",
    "\n",
    "    cursor.execute(query)\n",
    "    conn.commit()\n",
    "    sys.exit(0)\n",
    "    \n",
    "    \n"
   ]
  },
  {
   "cell_type": "code",
   "execution_count": 93,
   "metadata": {},
   "outputs": [
    {
     "name": "stdout",
     "output_type": "stream",
     "text": [
      "\n",
      "        INSERT INTO artists (id, name, followers, popularity, url, image_url)\n",
      "        VALUES (\"3Nrfpe0tUJi4K4DXYWgMUX\", \"BTS\", 16226414, 94, \"https://open.spotify.com/artist/3Nrfpe0tUJi4K4DXYWgMUX\", \"https://i.scdn.co/image/0c9057cb30520f9f883a220051260fc66a2f3ffa\")\n",
      "        ON DUPLICATE KEY UPDATE id= \"3Nrfpe0tUJi4K4DXYWgMUX\", name= \"BTS\", followers=16226414,        popularity=94, url=\"https://open.spotify.com/artist/3Nrfpe0tUJi4K4DXYWgMUX\", image_url=\"https://i.scdn.co/image/0c9057cb30520f9f883a220051260fc66a2f3ffa\"\n",
      "    \n"
     ]
    },
    {
     "ename": "SystemExit",
     "evalue": "0",
     "output_type": "error",
     "traceback": [
      "An exception has occurred, use %tb to see the full traceback.\n",
      "\u001b[0;31mSystemExit\u001b[0m\u001b[0;31m:\u001b[0m 0\n"
     ]
    }
   ],
   "source": [
    " main()"
   ]
  },
  {
   "cell_type": "code",
   "execution_count": null,
   "metadata": {},
   "outputs": [],
   "source": []
  },
  {
   "cell_type": "code",
   "execution_count": null,
   "metadata": {},
   "outputs": [],
   "source": []
  },
  {
   "cell_type": "code",
   "execution_count": null,
   "metadata": {},
   "outputs": [],
   "source": []
  },
  {
   "cell_type": "code",
   "execution_count": null,
   "metadata": {},
   "outputs": [],
   "source": []
  }
 ],
 "metadata": {
  "kernelspec": {
   "display_name": "Python 3",
   "language": "python",
   "name": "python3"
  },
  "language_info": {
   "codemirror_mode": {
    "name": "ipython",
    "version": 3
   },
   "file_extension": ".py",
   "mimetype": "text/x-python",
   "name": "python",
   "nbconvert_exporter": "python",
   "pygments_lexer": "ipython3",
   "version": "3.7.6"
  }
 },
 "nbformat": 4,
 "nbformat_minor": 2
}
