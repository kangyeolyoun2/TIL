{
 "cells": [
  {
   "cell_type": "markdown",
   "metadata": {},
   "source": [
    "### Duplicate Record 핸들링을 위한 파이썬 함수\n",
    "    - 앞선 복잡하게 insert했던것들 해결"
   ]
  },
  {
   "cell_type": "code",
   "execution_count": 5,
   "metadata": {},
   "outputs": [],
   "source": [
    "import pickle\n",
    "\n",
    "file = open(\"/Users/kangyeolyoun/Desktop/pickle file/aws_mysql_db\", \"rb\")\n",
    "data = pickle.load(file)"
   ]
  },
  {
   "cell_type": "code",
   "execution_count": null,
   "metadata": {},
   "outputs": [],
   "source": []
  },
  {
   "cell_type": "code",
   "execution_count": 3,
   "metadata": {},
   "outputs": [],
   "source": [
    "def get_headers(client_id, client_secret):\n",
    "\n",
    "    endpoint = \"https://accounts.spotify.com/api/token\"\n",
    "    encoded = base64.b64encode(\"{}:{}\".format(client_id, client_secret).encode('utf-8')).decode('ascii')\n",
    "\n",
    "    headers = {\n",
    "        \"Authorization\": \"Basic {}\".format(encoded)\n",
    "    }\n",
    "\n",
    "    payload = {\n",
    "        \"grant_type\": \"client_credentials\"\n",
    "    }\n",
    "\n",
    "    r = requests.post(endpoint, data=payload, headers=headers)\n",
    "\n",
    "    access_token = json.loads(r.text)['access_token']\n",
    "\n",
    "    headers = {\n",
    "        \"Authorization\": \"Bearer {}\".format(access_token)\n",
    "    }\n",
    "\n",
    "    return headers\n",
    "\n",
    "def insert_row(cursor, data, table):\n",
    "    placeholders = \", \".join([\"%s\"] * len(data))\n",
    "    columns = \", \".join(data.keys())\n",
    "    key_placeholders = \", \".join([\"{0}=%s\".format(k) for k in data.keys()]) #id = %s, name=%s 이런식\n",
    "    sql = \"INSERT INTO %s (%s) VALUES (%s) ON DUPLICATE KEY UPDATE %s\" % (table, columns, placeholders,\\\n",
    "                                                                         key_placeholders)\n",
    "    print(sql)\n",
    "    sys.exit(0)\n",
    "    cursor.execute(sql, list(data.values())*2)"
   ]
  },
  {
   "cell_type": "code",
   "execution_count": 10,
   "metadata": {},
   "outputs": [],
   "source": [
    "# 원하는 데이터 뽑아오자\n",
    "import sys\n",
    "import requests\n",
    "import base64\n",
    "import json\n",
    "import logging\n",
    "import pymysql\n",
    "\n",
    "host = data[0]\n",
    "port = int(data[1])\n",
    "username = \"kangyeol\"\n",
    "database = data[2]\n",
    "password = data[3]\n",
    "client_id = data[4]\n",
    "client_secret = data[5]\n",
    "\n",
    "\n",
    "def main():\n",
    "    \n",
    "    \n",
    "    \n",
    "    try:\n",
    "        conn = pymysql.connect(host, user=username, passwd=password, db=database,\\\n",
    "                             port=port, use_unicode=True, charset=\"utf8\")\n",
    "        cursor = conn.cursor()\n",
    "    except:\n",
    "        logging.error(\"could not connect to RDS\")\n",
    "        sys.exit(1)\n",
    "        \n",
    "    headers = get_headers(client_id, client_secret)\n",
    "    \n",
    "    ## Spotify Search API\n",
    "    params = {\n",
    "        \"q\": \"BTS\",\n",
    "        \"type\": \"artist\",\n",
    "        \"limit\": \"5\"\n",
    "    }\n",
    "    \n",
    "    r = requests.get(\"https://api.spotify.com/v1/search\", params=params, headers=headers)\n",
    "    \n",
    "    # json을 통해서 스트링 형태로 들어온다.\n",
    "    raw = json.loads(r.text)\n",
    "\n",
    "    artist = {}\n",
    "    artist_raw = raw[\"artists\"][\"items\"][0]\n",
    "    \n",
    "    if artist_raw[\"name\"] == params[\"q\"]:\n",
    "        artist.update({\n",
    "            \"id\": artist_raw[\"id\"],\n",
    "            \"name\": artist_raw[\"name\"],\n",
    "            \"followers\": artist_raw[\"followers\"][\"total\"],\n",
    "            \"popularity\": artist_raw[\"popularity\"],\n",
    "            \"url\": artist_raw[\"external_urls\"][\"spotify\"],\n",
    "            \"image_url\": artist_raw[\"images\"][0][\"url\"]\n",
    "        })\n",
    "    \n",
    "    insert_row(cursor, artist, \"artists\")\n",
    "    conn.commit()\n",
    "    sys.exit(0)\n",
    "    \n",
    "    \n"
   ]
  },
  {
   "cell_type": "code",
   "execution_count": 11,
   "metadata": {},
   "outputs": [
    {
     "name": "stdout",
     "output_type": "stream",
     "text": [
      "INSERT INTO artists (id, name, followers, popularity, url, image_url) VALUES (%s, %s, %s, %s, %s, %s) ON DUPLICATE KEY UPDATE id=%s, name=%s, followers=%s, popularity=%s, url=%s, image_url=%s\n"
     ]
    },
    {
     "ename": "SystemExit",
     "evalue": "0",
     "output_type": "error",
     "traceback": [
      "An exception has occurred, use %tb to see the full traceback.\n",
      "\u001b[0;31mSystemExit\u001b[0m\u001b[0;31m:\u001b[0m 0\n"
     ]
    },
    {
     "name": "stderr",
     "output_type": "stream",
     "text": [
      "/usr/local/lib/python3.7/site-packages/IPython/core/interactiveshell.py:3334: UserWarning: To exit: use 'exit', 'quit', or Ctrl-D.\n",
      "  warn(\"To exit: use 'exit', 'quit', or Ctrl-D.\", stacklevel=1)\n"
     ]
    }
   ],
   "source": [
    "main()"
   ]
  },
  {
   "cell_type": "code",
   "execution_count": null,
   "metadata": {},
   "outputs": [],
   "source": [
    "# 이런식으로 values와 Douplicate 안에 %s로 입력되도록 만들고,"
   ]
  },
  {
   "cell_type": "code",
   "execution_count": null,
   "metadata": {},
   "outputs": [],
   "source": []
  },
  {
   "cell_type": "code",
   "execution_count": 12,
   "metadata": {},
   "outputs": [],
   "source": [
    "# insert into duplicate 간단화\n",
    "def insert_row(cursor, data, table):\n",
    "    placeholders = \", \".join([\"%s\"] * len(data))\n",
    "    columns = \", \".join(data.keys())\n",
    "    key_placeholders = \", \".join([\"{0}=%s\".format(k) for k in data.keys()]) #id = %s, name=%s 이런식\n",
    "    sql = \"INSERT INTO %s (%s) VALUES (%s) ON DUPLICATE KEY UPDATE %s\" % (table, columns, placeholders,\\\n",
    "                                                                         key_placeholders)\n",
    "    cursor.execute(sql, list(data.values())*2)"
   ]
  },
  {
   "cell_type": "code",
   "execution_count": 13,
   "metadata": {},
   "outputs": [],
   "source": [
    "# 원하는 데이터 뽑아오자\n",
    "import sys\n",
    "import requests\n",
    "import base64\n",
    "import json\n",
    "import logging\n",
    "import pymysql\n",
    "\n",
    "host = data[0]\n",
    "port = int(data[1])\n",
    "username = \"kangyeol\"\n",
    "database = data[2]\n",
    "password = data[3]\n",
    "client_id = data[4]\n",
    "client_secret = data[5]\n",
    "\n",
    "\n",
    "def main():\n",
    "    \n",
    "    \n",
    "    \n",
    "    try:\n",
    "        conn = pymysql.connect(host, user=username, passwd=password, db=database,\\\n",
    "                             port=port, use_unicode=True, charset=\"utf8\")\n",
    "        cursor = conn.cursor()\n",
    "    except:\n",
    "        logging.error(\"could not connect to RDS\")\n",
    "        sys.exit(1)\n",
    "        \n",
    "    headers = get_headers(client_id, client_secret)\n",
    "    \n",
    "    ## Spotify Search API\n",
    "    params = {\n",
    "        \"q\": \"BTS\",\n",
    "        \"type\": \"artist\",\n",
    "        \"limit\": \"5\"\n",
    "    }\n",
    "    \n",
    "    r = requests.get(\"https://api.spotify.com/v1/search\", params=params, headers=headers)\n",
    "    \n",
    "    # json을 통해서 스트링 형태로 들어온다.\n",
    "    raw = json.loads(r.text)\n",
    "\n",
    "    artist = {}\n",
    "    artist_raw = raw[\"artists\"][\"items\"][0]\n",
    "    \n",
    "    if artist_raw[\"name\"] == params[\"q\"]:\n",
    "        artist.update({\n",
    "            \"id\": artist_raw[\"id\"],\n",
    "            \"name\": artist_raw[\"name\"],\n",
    "            \"followers\": artist_raw[\"followers\"][\"total\"],\n",
    "            \"popularity\": artist_raw[\"popularity\"],\n",
    "            \"url\": artist_raw[\"external_urls\"][\"spotify\"],\n",
    "            \"image_url\": artist_raw[\"images\"][0][\"url\"]\n",
    "        })\n",
    "    \n",
    "    insert_row(cursor, artist, \"artists\")\n",
    "    conn.commit()\n",
    "    sys.exit(0)\n",
    "    \n",
    "    \n"
   ]
  },
  {
   "cell_type": "code",
   "execution_count": 14,
   "metadata": {},
   "outputs": [
    {
     "ename": "SystemExit",
     "evalue": "0",
     "output_type": "error",
     "traceback": [
      "An exception has occurred, use %tb to see the full traceback.\n",
      "\u001b[0;31mSystemExit\u001b[0m\u001b[0;31m:\u001b[0m 0\n"
     ]
    }
   ],
   "source": [
    "main()"
   ]
  },
  {
   "cell_type": "code",
   "execution_count": null,
   "metadata": {},
   "outputs": [],
   "source": []
  },
  {
   "cell_type": "markdown",
   "metadata": {},
   "source": [
    "### 500명의 artist list를 내가만든 data table에 가져오자"
   ]
  },
  {
   "cell_type": "code",
   "execution_count": 27,
   "metadata": {},
   "outputs": [],
   "source": [
    "# 원하는 데이터 뽑아오자\n",
    "import sys\n",
    "import requests\n",
    "import base64\n",
    "import json\n",
    "import logging\n",
    "import pymysql\n",
    "import csv\n",
    "\n",
    "host = data[0]\n",
    "port = int(data[1])\n",
    "username = \"kangyeol\"\n",
    "database = data[2]\n",
    "password = data[3]\n",
    "client_id = data[4]\n",
    "client_secret = data[5]\n",
    "\n",
    "\n",
    "def main():\n",
    "    \n",
    "    \n",
    "    \n",
    "    try:\n",
    "        conn = pymysql.connect(host, user=username, passwd=password, db=database,\\\n",
    "                             port=port, use_unicode=True, charset=\"utf8\")\n",
    "        cursor = conn.cursor()\n",
    "    except:\n",
    "        logging.error(\"could not connect to RDS\")\n",
    "        sys.exit(1)\n",
    "        \n",
    "    headers = get_headers(client_id, client_secret)\n",
    "    \n",
    "    ## Spotify Search API\n",
    "    artists = []\n",
    "    with open(\"../artist_list 복사본.csv\")  as f:\n",
    "        raw = csv.reader(f)\n",
    "        for row in raw:\n",
    "            artists.append(row[0])\n",
    "    print(artists)\n",
    "\n",
    "    for a in artists:\n",
    "        params = {\n",
    "            \"q\": a,\n",
    "            \"type\": \"artist\",\n",
    "            \"limit\": \"1\"        \n",
    "        }\n",
    "    \n",
    "        r = requests.get(\"https://api.spotify.com/v1/search\", params=params, headers=headers)\n",
    "        raw = json.loads(r.text)\n",
    "        \n",
    "        artist = {}\n",
    "        \n",
    "        #에러 방지해주기 위해\n",
    "        try:\n",
    "            if raw[\"artists\"][\"items\"][0][\"name\"] == params[\"q\"]:\n",
    "                \n",
    "                artist.update(\n",
    "                    {\n",
    "                        \"id\": raw[\"artists\"][\"items\"][0][\"id\"],\n",
    "                        \"name\":raw[\"artists\"][\"items\"][0][\"name\"],\n",
    "                        \"followers\":raw[\"artists\"][\"items\"][0][\"followers\"][\"total\"],\n",
    "                        \"popularity\":raw[\"artists\"][\"items\"][0][\"popularity\"],\n",
    "                        \"url\": raw[\"artists\"][\"items\"][0][\"external_urls\"][\"spotify\"],\n",
    "                        \"image_url\": raw[\"artists\"][\"items\"][0][\"images\"][0][\"url\"],\n",
    "                    }\n",
    "                )\n",
    "                insert_row(cursor, artist, \"artists\")\n",
    "                \n",
    "        except:\n",
    "            logging.error(\"NO ITEMS FROM SEARCH API\")\n",
    "            # 에러가 나도 지속적으로 해라\n",
    "            continue\n",
    "        \n",
    "\n",
    "        \n",
    "    conn.commit()\n",
    "    sys.exit(0)\n",
    "    \n",
    "    r = requests.get(\"https://api.spotify.com/v1/search\", params=params, headers=headers)\n",
    "    \n",
    "    # json을 통해서 스트링 형태로 들어온다.\n",
    "    raw = json.loads(r.text)\n",
    "\n",
    "    artist = {}\n",
    "    artist_raw = raw[\"artists\"][\"items\"][0]\n",
    "    \n",
    "    if artist_raw[\"name\"] == params[\"q\"]:\n",
    "        artist.update({\n",
    "            \"id\": artist_raw[\"id\"],\n",
    "            \"name\": artist_raw[\"name\"],\n",
    "            \"followers\": artist_raw[\"followers\"][\"total\"],\n",
    "            \"popularity\": artist_raw[\"popularity\"],\n",
    "            \"url\": artist_raw[\"external_urls\"][\"spotify\"],\n",
    "            \"image_url\": artist_raw[\"images\"][0][\"url\"]\n",
    "        })\n",
    "    \n",
    "    insert_row(cursor, artist, \"artists\")\n",
    "    conn.commit()\n",
    "    sys.exit(0)\n",
    "    \n",
    "    \n"
   ]
  },
  {
   "cell_type": "code",
   "execution_count": 28,
   "metadata": {},
   "outputs": [
    {
     "name": "stdout",
     "output_type": "stream",
     "text": [
      "['\\ufeff10cc', '2Pac', '50 Cent', 'A Thousand Horses', 'ABBA', 'ABC', 'Aerosmith', 'Agnetha Fältskog', 'Alan Jackson', 'Albert King', 'Alice Cooper', 'Alison Krauss', 'The All-American Rejects', 'The Allman Brothers Band', 'Amy Winehouse', 'Andre Rieu', 'Andrea Bocelli', 'Andrew W.K.', 'Anthrax', 'Antonio Carlos Jobim', 'Apache Indian', 'Arcade Fire', 'Ariana Grande', 'Arrested Development', 'Ashley Campbell', 'Astrud Gilberto', 'Aswad', 'Atlanta Rhythm Section', 'Audioslave', 'B.B. King', 'Badfinger', 'The Band', 'Barclay James Harvest', 'Barry White', 'The Beach Boys', 'Beastie Boys', 'The Beatles', 'Beck', 'Bee Gees', 'Belinda Carlisle', 'Ben Harper', 'Ben Howard', 'Benny Andersson', 'Big Country', 'Big Star', 'Bill Evans', 'Billie Holiday', 'Billy Currington', 'Billy Fury', 'Billy Preston', 'Björk', 'Black Eyed Peas', 'Black Sabbath', 'Black Uhuru', 'Blind Faith', 'Blink-182', 'Blondie', 'Blue Cheer', 'Bo Diddley', 'Bob Dylan', 'Bob Marley', 'Bon Jovi', 'Bonnie Raitt', 'Booker T', 'Boyz II Men', 'Brantley Gilbert', 'Brenda Holloway', 'Brian Eno', 'The Brothers Johnson', 'Bruce Springsteen', 'Bryan Adams', 'Bryan Ferry', 'Buddy Guy', 'Buddy Holly', 'Burning Spear', 'Burt Bacharach', 'The Cadillac Three', 'Camel', 'Canned Heat', 'Captain Beefheart', 'Caravan', 'Carpenters', 'Cat Stevens', 'Charlie Parker', 'Cheap Trick', 'The Chemical Brothers', 'Cher', 'Chris Cornell', 'Chris Stapleton', 'Chuck Berry', 'Cinderella', 'The Clash', 'Climax Blues Band', 'Coleman Hawkins', 'The Commodores', 'Common', 'The Common Linnets', 'Corinne Bailey Rae', 'Count Basie', 'Counting Crows', 'Craig Armstrong', 'The Cranberries', 'Cream', 'Creedence Clearwater Revival', 'Crowded House', 'Culture Club', 'The Cure', 'Cutting Crew', 'D’Angelo', 'DMX', 'The Damned', 'Daniel Hope', 'Danny Wilson & Gary Clark', 'David Bowie', 'Dean Martin', 'Debarge', 'Deep Purple', 'Def Leppard', 'Demi Lovato', 'Demis Roussos', 'Derek And The Dominos', 'Desmond Dekker', 'Diana Krall', 'Diana Ross', 'Diana Ross & The Supremes', 'Dierks Bentley', 'Dinah Washington', 'Dio', 'Dire Straits', 'Disclosure', 'Don Henley', 'Donna Summer', 'The Doors', 'Dr Dre', 'Drake', 'Duke Ellington', 'Dusty Springfield', 'EELS', 'EPMD', 'Eagles', 'Eagles Of Death Metal', 'Eazy-E', 'Eddie Cochran', 'Elbow', 'Ella Fitzgerald', 'Elliott Smith', 'Elton John', 'Elvis Costello', 'Elvis Presley', 'Emeli Sandé', 'Eminem', 'Enigma', 'Eric B. & Rakim', 'Eric Church', 'Eric Clapton', 'Etta James', 'Evanescence', 'Eve', 'Extreme', 'Fairport Convention', 'Fats Domino', 'Faust', 'Fergie', 'Florence + The Machine', 'The Flying Burrito Brothers', 'Four Tops', 'Foxy Brown', 'Frank Sinatra', 'Frank Zappa', 'Frankie Goes To Hollywood', 'Freddie Mercury', 'Free', 'Frida Lyngstad', 'The Game', 'Gang Starr', 'Gary Moore', 'Gene Krupa', 'Gene Vincent', 'Genesis', 'Gentle Giant', 'George Benson', 'George Harrison', 'George Michael', 'George Strait', 'George Thorogood', 'Georgie Fame', 'Ghostface Killah', 'Ginger Baker', 'Glen Campbell', 'Gong', 'Grace Jones', 'Graham Parker', 'Grand Funk Railroad', 'Gregory Isaacs', 'Gregory Porter', 'Guns N’ Roses', 'Gwen Stefani', 'Hank Williams', 'Heart', 'Heaven 17', 'Helmet', 'Herbie Hancock', 'Hoobastank', 'Howlin Wolf', 'Hoyt Axton', 'Huey Lewis & The News', 'The Human League', 'Humble Pie', 'INXS', 'Ice Cube', 'Iggy Pop', 'Imagine Dragons', 'Iron Maiden', 'Isaac Hayes', 'The Isley Brothers', 'It Bites', 'J.J. Cale', 'Jack Bruce', 'Jack Johnson', 'Jackson 5', 'Jacques Brel', 'Jadakiss', 'The Jam', 'James', 'James Bay', 'James Blake', 'James Brown', 'James Morrison', 'James Taylor', 'Jane’s Addiction', 'Janet Jackson', 'Japan & David Sylvian', 'Jay-Z', 'Jeru the Damaja', 'Jessie J', 'Jimi Hendrix', 'Jimmy Buffett', 'Jimmy Cliff', 'Jimmy Eat World', 'Jimmy Ruffin', 'Jimmy Smith', 'Joan Armatrading', 'Joan Baez', 'Joe Cocker', 'Joe Jackson', 'Joe Sample', 'Joe Walsh / The James Gang', 'John Coltrane', 'John Fogerty', 'John Lee Hooker', 'John Lennon', 'John Martyn', 'John Mayall', 'John Mellencamp', 'John Williams', 'Johnny Cash', 'Johnny Gill', 'Joni Mitchell', 'Jonny Lang', 'Joss Stone', 'Jr. Walker & The All Stars', 'Julie London', 'Jurassic 5', 'Justin Bieber', 'Kacey Musgraves', 'Kaiser Chiefs', 'Kanye West', 'Kate Bush', 'Katy Perry', 'Keane', 'Keith Jarrett', 'Keith Richards', 'Keith Urban', 'Kendrick Lamar', 'Kenny Burrell', 'Kevin Coyne', 'The Killers', 'Killing Joke', 'Kim Carnes', 'The Kinks', 'Kip Moore', 'Kiss', 'The Kooks', 'Kool And The Gang', 'LL Cool J', 'Lady Antebellum', 'Lady GaGa', 'Lana Del Rey', 'Laura Marling', 'Led Zeppelin', 'Lee ‘Scratch’ Perry', 'Lenny Kravitz', 'Leon Russell', 'Lester Young', 'Level 42', 'The Libertines', 'Lightnin’ Hopkins', 'Lil Wayne', 'Linton Kwesi Johnson', 'Lionel Richie', 'Little Big Town', 'Little Richard', 'Lloyd Cole', 'Lorde', 'Louis Armstrong', 'Lucinda Williams', 'Ludacris', 'Ludovico Einaudi', 'Luke Bryan', 'Lulu', 'The Lumineers', 'Lynyrd Skynyrd', 'Maddie & Tae', 'Madonna', 'Magazine', 'The Mamas & The Papas', 'Marc Almond', 'Marilyn Manson', 'Mark Knopfler', 'Maroon 5', 'Martha Reeves & The Vandellas', 'The Marvelettes', 'Marvin Gaye', 'Mary Hopkin', 'Mary J. Blige', 'Mary Wells', 'Massive Attack', 'Master P', 'The Mavericks', 'Maxi Priest', 'McCoy Tyner', 'Meat Loaf', 'Megadeth', 'Melody Gardot', 'Metallica', 'Method Man', 'Michael Jackson', 'Michael Nyman', 'Mike & the Mechanics', 'Mike Oldfield', 'Miles Davis', 'Minnie Riperton', 'The Moody Blues', 'Morrissey', 'Motörhead', 'Muddy Waters', 'Mumford & Sons', 'Mötley Crüe', 'N.W.A', 'Nanci Griffith', 'Nas', 'Nat King Cole', 'Nazareth', 'Ne-Yo', 'Neil Diamond', 'Neil Young', 'Nelly', 'Neneh Cherry', 'New Edition', 'New York Dolls', 'Nick Drake', 'Nicki Minaj', 'Nik Kershaw', 'Nina Simone', 'Nine Inch Nails', 'Nirvana', 'The Nitty Gritty Dirt Band', 'No Doubt', 'Norah Jones', 'OMD', 'Ocean Colour Scene', 'OneRepublic', 'Onyx', 'Oscar Peterson', 'Otis Redding', 'The Ozark Mountain Daredevils', 'PJ Harvey', 'Papa Roach', 'Pat Benatar', 'Pato Banton', 'Patsy Cline', 'Patty Griffin', 'Paul McCartney and Wings', 'Paul Simon', 'Paul Weller', 'Peaches & Herb', 'Pearl Jam', 'Peggy Lee', 'Pete Townshend', 'Peter Frampton', 'Phil Collins', 'Phil Manzanera', 'PiL (Public Image Ltd)', 'Pink Floyd', 'Placebo', 'Poco', 'Poison', 'The Police', 'Portishead', 'Prince', 'Public Enemy', 'Pulp', 'Queen', 'Queens Of The Stone Age', 'Quicksilver Messenger Service', 'Quincy Jones', 'R.E.M.', 'Rainbow', 'Rammstein', 'Ray Charles', 'Reba McEntire', 'Red Hot Chili Peppers', 'Redman', 'Richie Havens', 'Rick James', 'Rick Nelson', 'Rick Ross', 'Rick Wakeman', 'The Righteous Brothers', 'Rihanna', 'Ringo Starr', 'Rise Against', 'Rob Zombie', 'Robbie Williams', 'Robert Cray', 'Robert Glasper', 'Robert Palmer', 'Robert Plant', 'Rod Stewart', 'Roger Daltrey', 'The Rolling Stones', 'Ronnie Lane', 'Ronnie Wood', 'Rory Gallagher', 'The Roots', 'Rosanne Cash', 'Roxy Music', 'Roy Orbison', 'Ruff Ryders', 'Rufus Wainwright', 'Rush', 'The Ruts', 'Ryan Adams', 'Saint Etienne', 'Salt-n-Pepa', 'Sam Cooke', 'Sam Hunt', 'Sam Smith', 'Sammy Hagar', 'Sandy Denny', 'Schiller', 'Scorpions', 'Scott Walker', 'Secret Garden', 'Sensational Alex Harvey Band', 'Serge Gainsbourg', 'Sergio Mendes', 'Sex Pistols', 'Shaggy', 'Sham 69', 'Shania Twain', 'Sheryl Crow', 'Simple Minds', 'Siouxsie & The Banshees', 'Slayer', 'Slick Rick', 'Sly & Robbie', 'Small Faces', 'The Smashing Pumpkins', 'Smokey Robinson', 'Smokey Robinson & The Miracles', 'Snoop Dogg', 'Snow Patrol', 'Soft Cell', 'Sonic Youth', 'Sonny Boy Williamson', 'Soul II Soul', 'Soundgarden', 'Spandau Ballet', 'Sparks', 'Spice Girls', 'Stan Getz', 'The Statler Brothers', 'Status Quo', 'Steel Pulse', 'Steely Dan', 'Steppenwolf', 'Stereo MCs', 'Stereophonics', 'Steve Earle', 'Steve Hackett', 'Steve Hillage', 'Steve Miller Band', 'Steve Winwood', 'Steven Tyler', 'Stevie Wonder', 'Sting', 'The Style Council', 'Styx', 'Sublime', 'Sum 41', 'Supertramp', 'Suzanne Vega', 'T-Bone Walker', 'T. Rex', 'Take That', 'Tammi Terrell', 'Tangerine Dream', 'Taylor Swift', 'Tears For Fears', 'Teena Marie', 'Temple Of The Dog', 'The Temptations', 'Tesla', 'Texas', 'Thelma Houston', 'Thelonious Monk', 'Thin Lizzy', 'Thomas Rhett', 'Three Dog Night', 'Tim McGraw', 'Toby Keith', 'Tom Jones', 'Tom Petty', 'Tom Waits', 'Toots & The Maytals', 'Tori Amos', 'Traffic', 'Traveling Wilburys', 'The Tubes', 'U2', 'UB40', 'Ultravox', 'Underworld', 'Van der Graaf Generator', 'Vangelis', 'The Velvet Underground', 'The Verve', 'Vince Gill', 'The Walker Brothers', 'Weezer', 'Wes Montgomery', 'Wet Wet Wet', 'will.i.am', 'Whitesnake', 'The Who', 'William Orbit', 'Willie Nelson', 'Wilson Pickett', 'Wishbone Ash', 'Wolfmother', 'Yeah Yeah Yeahs', 'Yello', 'Yes', 'Young Jeezy', 'Zucchero']\n"
     ]
    },
    {
     "name": "stderr",
     "output_type": "stream",
     "text": [
      "ERROR:root:NO ITEMS FROM SEARCH API\n",
      "ERROR:root:NO ITEMS FROM SEARCH API\n",
      "ERROR:root:NO ITEMS FROM SEARCH API\n",
      "ERROR:root:NO ITEMS FROM SEARCH API\n",
      "ERROR:root:NO ITEMS FROM SEARCH API\n",
      "ERROR:root:NO ITEMS FROM SEARCH API\n",
      "ERROR:root:NO ITEMS FROM SEARCH API\n"
     ]
    },
    {
     "ename": "SystemExit",
     "evalue": "0",
     "output_type": "error",
     "traceback": [
      "An exception has occurred, use %tb to see the full traceback.\n",
      "\u001b[0;31mSystemExit\u001b[0m\u001b[0;31m:\u001b[0m 0\n"
     ]
    }
   ],
   "source": [
    "main()"
   ]
  },
  {
   "cell_type": "code",
   "execution_count": null,
   "metadata": {},
   "outputs": [],
   "source": []
  },
  {
   "cell_type": "code",
   "execution_count": null,
   "metadata": {},
   "outputs": [],
   "source": []
  }
 ],
 "metadata": {
  "kernelspec": {
   "display_name": "Python 3",
   "language": "python",
   "name": "python3"
  },
  "language_info": {
   "codemirror_mode": {
    "name": "ipython",
    "version": 3
   },
   "file_extension": ".py",
   "mimetype": "text/x-python",
   "name": "python",
   "nbconvert_exporter": "python",
   "pygments_lexer": "ipython3",
   "version": "3.7.6"
  }
 },
 "nbformat": 4,
 "nbformat_minor": 2
}
