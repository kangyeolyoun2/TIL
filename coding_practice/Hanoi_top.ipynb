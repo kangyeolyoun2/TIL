{
 "cells": [
  {
   "cell_type": "code",
   "execution_count": 7,
   "metadata": {},
   "outputs": [],
   "source": [
    "class TreeNode:\n",
    "    \n",
    "    def __init__(self):\n",
    "        self.__data = None\n",
    "        self.__left = None\n",
    "        self.__right = None\n",
    "        \n",
    "        \n",
    "    def __del__(self):\n",
    "        print(\"{} is deleted\".format(self.data))\n",
    "    \n",
    "\n",
    "    @property\n",
    "    def data(self):\n",
    "        return self.__data\n",
    "    \n",
    "    @data.setter\n",
    "    def data(self, data):\n",
    "        self.__data = data\n",
    "    \n",
    "    \n",
    "    @property\n",
    "    def left(self):\n",
    "        return self.__left\n",
    "    \n",
    "    @left.setter\n",
    "    def left(self, left):\n",
    "        self.__left = left\n",
    "        \n",
    "    @property\n",
    "    def right(self):\n",
    "        return self.__right\n",
    "        \n",
    "    @right.setter\n",
    "    def right(self, right):\n",
    "        self.__right = right"
   ]
  },
  {
   "cell_type": "code",
   "execution_count": 8,
   "metadata": {},
   "outputs": [],
   "source": [
    "class BinaryTree:\n",
    "    \n",
    "    def __init__(self):\n",
    "        \n",
    "        self.root = None\n",
    "        \n",
    "    \n",
    "    def get_root(self):\n",
    "        return self.root\n",
    "    \n",
    "    def set_root(self, r):\n",
    "        self.root = r\n",
    "        \n",
    "    def make_node(self):\n",
    "        new_node = TreeNode()\n",
    "        return new_node\n",
    "    \n",
    "    def get_node_data(self, cur):\n",
    "        return cur.data\n",
    "    \n",
    "    def set_node_data(self, cur, data):\n",
    "        cur.data = data\n",
    "        \n",
    "    #서브트리 생성\n",
    "    def get_left_sub_tree(self, cur):\n",
    "        return cur.left\n",
    "    \n",
    "    def get_right_sub_tree(self, cur):\n",
    "        return cur.right\n",
    "    \n",
    "    def make_left_sub_tree(self, cur, left):\n",
    "        cur.left = left\n",
    "    \n",
    "    def make_right_sub_tree(self, cur, right):\n",
    "        cur.right = right\n",
    "        \n",
    "        \n",
    "    def preorder_traverse(self, cur, func):  # cur: 방문 노드, func: 데이터 처리 함수\n",
    "        # 탈출 조건 : 방문한 노드가 빈 노드일 때 \n",
    "        if not cur:\n",
    "            return \n",
    "\n",
    "        func(cur.data)\n",
    "        self.preorder_traverse(cur.left, func)\n",
    "        self.preorder_traverse(cur.right, func)\n",
    "\n",
    "    # 중위 순회\n",
    "    def inorder_traverse(self, cur, func):\n",
    "        if not cur:\n",
    "            return\n",
    "\n",
    "        self.inorder_traverse(cur.left, func)\n",
    "        func(cur.data)\n",
    "        self.inorder_traverse(cur.right, func)\n",
    "\n",
    "    # 후위 순회\n",
    "    def postorder_traverse(self, cur, func):\n",
    "        if not cur:\n",
    "            return \n",
    "        self.post_prder_traverse(cur.left, func)\n",
    "        self.post_prder_traverse(cur.right, func)\n",
    "        func(cur.data)"
   ]
  },
  {
   "cell_type": "code",
   "execution_count": 10,
   "metadata": {},
   "outputs": [
    {
     "name": "stdout",
     "output_type": "stream",
     "text": [
      "1 is deleted\n",
      "2 is deleted\n",
      "3 is deleted\n",
      "4 is deleted\n",
      "5 is deleted\n",
      "6 is deleted\n",
      "7 is deleted\n"
     ]
    }
   ],
   "source": [
    "if __name__ == \"__main__\":\n",
    "    \n",
    "    bt = BinaryTree()\n",
    "    n1 = bt.make_node()\n",
    "    bt.set_node_data(n1, 1)\n",
    "    \n",
    "    # 노드 생성 및 노드의 데이터 설정\n",
    "    n2 = bt.make_node()\n",
    "    bt.set_node_data(n2, 2)\n",
    "    \n",
    "    n3 = bt.make_node()\n",
    "    bt.set_node_data(n3, 3)\n",
    "    \n",
    "    n4 = bt.make_node()\n",
    "    bt.set_node_data(n4, 4)\n",
    "    \n",
    "    n5 = bt.make_node()\n",
    "    bt.set_node_data(n5, 5)\n",
    "    \n",
    "    n6 = bt.make_node()\n",
    "    bt.set_node_data(n6, 6)\n",
    "    \n",
    "    n7 = bt.make_node()\n",
    "    bt.set_node_data(n7, 7)\n",
    "    \n",
    "    # 루트 노드 설정\n",
    "    bt.set_root(n1)\n",
    "    \n",
    "    # 루트 노드의 왼쪽 자식 노드 설정\n",
    "    bt.make_left_sub_tree(n1, n2)\n",
    "    # 루트 노드의 오른쪽 자식 노드 설정\n",
    "    bt.make_right_sub_tree(n1, n3)\n",
    "    \n",
    "    bt.make_left_sub_tree(n2, n4)\n",
    "    bt.make_right_sub_tree(n2, n5)\n",
    "    \n",
    "    bt.make_left_sub_tree(n3, n6)\n",
    "    bt.make_right_sub_tree(n3, n7)"
   ]
  },
  {
   "cell_type": "code",
   "execution_count": 11,
   "metadata": {},
   "outputs": [
    {
     "name": "stdout",
     "output_type": "stream",
     "text": [
      "1 2 4 5 3 6 7 \n"
     ]
    }
   ],
   "source": [
    "f = lambda a: print(a, end = \" \")\n",
    "bt.preorder_traverse(bt.get_root(), f)\n",
    "print()"
   ]
  },
  {
   "cell_type": "code",
   "execution_count": 12,
   "metadata": {},
   "outputs": [
    {
     "name": "stdout",
     "output_type": "stream",
     "text": [
      "1 is deleted\n"
     ]
    },
    {
     "ename": "NameError",
     "evalue": "name 'A' is not defined",
     "output_type": "error",
     "traceback": [
      "\u001b[0;31m---------------------------------------------------------------------------\u001b[0m",
      "\u001b[0;31mNameError\u001b[0m                                 Traceback (most recent call last)",
      "\u001b[0;32m<ipython-input-12-e1649aa1c4ea>\u001b[0m in \u001b[0;36m<module>\u001b[0;34m\u001b[0m\n\u001b[1;32m      3\u001b[0m     \u001b[0mbt\u001b[0m \u001b[0;34m=\u001b[0m \u001b[0mBinaryTree\u001b[0m\u001b[0;34m(\u001b[0m\u001b[0;34m)\u001b[0m\u001b[0;34m\u001b[0m\u001b[0;34m\u001b[0m\u001b[0m\n\u001b[1;32m      4\u001b[0m     \u001b[0mn1\u001b[0m \u001b[0;34m=\u001b[0m \u001b[0mbt\u001b[0m\u001b[0;34m.\u001b[0m\u001b[0mmake_node\u001b[0m\u001b[0;34m(\u001b[0m\u001b[0;34m)\u001b[0m\u001b[0;34m\u001b[0m\u001b[0;34m\u001b[0m\u001b[0m\n\u001b[0;32m----> 5\u001b[0;31m     \u001b[0mbt\u001b[0m\u001b[0;34m.\u001b[0m\u001b[0mset_node_data\u001b[0m\u001b[0;34m(\u001b[0m\u001b[0mn1\u001b[0m\u001b[0;34m,\u001b[0m \u001b[0mA\u001b[0m\u001b[0;34m)\u001b[0m\u001b[0;34m\u001b[0m\u001b[0;34m\u001b[0m\u001b[0m\n\u001b[0m\u001b[1;32m      6\u001b[0m \u001b[0;34m\u001b[0m\u001b[0m\n\u001b[1;32m      7\u001b[0m     \u001b[0;31m# 노드 생성 및 노드의 데이터 설정\u001b[0m\u001b[0;34m\u001b[0m\u001b[0;34m\u001b[0m\u001b[0;34m\u001b[0m\u001b[0m\n",
      "\u001b[0;31mNameError\u001b[0m: name 'A' is not defined"
     ]
    }
   ],
   "source": [
    "if __name__ == \"__main__\":\n",
    "    \n",
    "    bt = BinaryTree()\n",
    "    n1 = bt.make_node()\n",
    "    bt.set_node_data(n1, A)\n",
    "    \n",
    "    # 노드 생성 및 노드의 데이터 설정\n",
    "    n2 = bt.make_node()\n",
    "    bt.set_node_data(n2, B)\n",
    "    \n",
    "    n3 = bt.make_node()\n",
    "    bt.set_node_data(n3, C)\n",
    "    \n",
    "    n4 = bt.make_node()\n",
    "    bt.set_node_data(n4, D)\n",
    "    \n",
    "    n5 = bt.make_node()\n",
    "    bt.set_node_data(n5, E)\n",
    "    \n",
    "    n6 = bt.make_node()\n",
    "    bt.set_node_data(n6, F)\n",
    "    \n",
    "    n7 = bt.make_node()\n",
    "    bt.set_node_data(n7, G)\n",
    "    \n",
    "    # 루트 노드 설정\n",
    "    bt.set_root(n1)\n",
    "    \n",
    "    # 루트 노드의 왼쪽 자식 노드 설정\n",
    "    bt.make_left_sub_tree(n1, n2)\n",
    "    # 루트 노드의 오른쪽 자식 노드 설정\n",
    "    bt.make_right_sub_tree(n1, n3)\n",
    "    \n",
    "    bt.make_left_sub_tree(n2, n4)\n",
    "    bt.make_right_sub_tree(n2, n5)\n",
    "    \n",
    "    bt.make_left_sub_tree(n3, n6)\n",
    "    bt.make_right_sub_tree(n3, n7)"
   ]
  },
  {
   "cell_type": "code",
   "execution_count": null,
   "metadata": {},
   "outputs": [],
   "source": [
    "if __name__ == \"__main__\":\n",
    "    \n",
    "    bt = BinaryTree()\n",
    "    n1 = bt.make_node()\n",
    "    \n",
    "    for i in range(7):\n",
    "        for j in range(3):\n",
    "            "
   ]
  },
  {
   "cell_type": "code",
   "execution_count": 13,
   "metadata": {},
   "outputs": [
    {
     "name": "stdout",
     "output_type": "stream",
     "text": [
      "None is deleted\n"
     ]
    }
   ],
   "source": [
    "bt = BinaryTree()\n",
    "n1 = bt.make_node()\n",
    "    "
   ]
  },
  {
   "cell_type": "code",
   "execution_count": 19,
   "metadata": {},
   "outputs": [],
   "source": [
    "array = [[0] * 3 for i in range(7)]"
   ]
  },
  {
   "cell_type": "code",
   "execution_count": 20,
   "metadata": {},
   "outputs": [
    {
     "data": {
      "text/plain": [
       "[[0, 0, 0], [0, 0, 0], [0, 0, 0], [0, 0, 0], [0, 0, 0], [0, 0, 0], [0, 0, 0]]"
      ]
     },
     "execution_count": 20,
     "metadata": {},
     "output_type": "execute_result"
    }
   ],
   "source": [
    "array"
   ]
  },
  {
   "cell_type": "code",
   "execution_count": 21,
   "metadata": {},
   "outputs": [],
   "source": [
    "for i in range(7):\n",
    "    for j in range(3):\n",
    "        array[i][j] = bt.make_node()"
   ]
  },
  {
   "cell_type": "code",
   "execution_count": 22,
   "metadata": {},
   "outputs": [
    {
     "data": {
      "text/plain": [
       "[[<__main__.TreeNode at 0x1c2523bb70>,\n",
       "  <__main__.TreeNode at 0x1c2523b5f8>,\n",
       "  <__main__.TreeNode at 0x1c2523a898>],\n",
       " [<__main__.TreeNode at 0x1c2523a630>,\n",
       "  <__main__.TreeNode at 0x1c2523a4a8>,\n",
       "  <__main__.TreeNode at 0x1c2523a358>],\n",
       " [<__main__.TreeNode at 0x1c2523ae48>,\n",
       "  <__main__.TreeNode at 0x1c2523a748>,\n",
       "  <__main__.TreeNode at 0x1c2523aba8>],\n",
       " [<__main__.TreeNode at 0x1c2523a400>,\n",
       "  <__main__.TreeNode at 0x1c2523a6a0>,\n",
       "  <__main__.TreeNode at 0x1c2523a860>],\n",
       " [<__main__.TreeNode at 0x1c2523ad68>,\n",
       "  <__main__.TreeNode at 0x1c2523acf8>,\n",
       "  <__main__.TreeNode at 0x1c2523aeb8>],\n",
       " [<__main__.TreeNode at 0x1c2523a198>,\n",
       "  <__main__.TreeNode at 0x1c2523a470>,\n",
       "  <__main__.TreeNode at 0x1c2523ac50>],\n",
       " [<__main__.TreeNode at 0x1c2523ab38>,\n",
       "  <__main__.TreeNode at 0x1c2523acc0>,\n",
       "  <__main__.TreeNode at 0x1c25230048>]]"
      ]
     },
     "execution_count": 22,
     "metadata": {},
     "output_type": "execute_result"
    }
   ],
   "source": [
    "array"
   ]
  },
  {
   "cell_type": "code",
   "execution_count": null,
   "metadata": {},
   "outputs": [],
   "source": []
  }
 ],
 "metadata": {
  "kernelspec": {
   "display_name": "Python 3",
   "language": "python",
   "name": "python3"
  },
  "language_info": {
   "codemirror_mode": {
    "name": "ipython",
    "version": 3
   },
   "file_extension": ".py",
   "mimetype": "text/x-python",
   "name": "python",
   "nbconvert_exporter": "python",
   "pygments_lexer": "ipython3",
   "version": "3.7.3"
  }
 },
 "nbformat": 4,
 "nbformat_minor": 2
}
