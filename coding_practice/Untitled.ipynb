{
 "cells": [
  {
   "cell_type": "code",
   "execution_count": 1,
   "metadata": {},
   "outputs": [],
   "source": [
    "class Node:\n",
    "    def __init__(self, data = None):\n",
    "        self.__data = data\n",
    "        self.__next = None\n",
    "        self.__prev = None\n",
    "        \n",
    "    def __del__(self):\n",
    "        print(\"data of {}i s deleted\".format(self.data))\n",
    "        \n",
    "    @property\n",
    "    def data(self):\n",
    "        return self.__data\n",
    "    \n",
    "    @data.setter\n",
    "    def data(self, data):\n",
    "        self.__data = data\n",
    "        \n",
    "    @property\n",
    "    def next(self):\n",
    "        return self.__next\n",
    "    \n",
    "    @next.setter\n",
    "    def next(self, n):\n",
    "        self.__next = n\n",
    "        \n",
    "    @property\n",
    "    def prev(self):\n",
    "        return self.__prev\n",
    "    \n",
    "    @prev.setter\n",
    "    def prev(self, n):\n",
    "        self.__prev = n\n",
    "        \n",
    "    \n",
    "    "
   ]
  },
  {
   "cell_type": "code",
   "execution_count": 2,
   "metadata": {},
   "outputs": [],
   "source": [
    "class Linked_list:\n",
    "    def __init__(self):\n",
    "        self.head = None\n",
    "        self.tail = None\n",
    "        self.d_size = 0\n",
    "        \n",
    "    def empty(self):\n",
    "        if self.d_size == 0:\n",
    "            return True\n",
    "        else:\n",
    "            return False\n",
    "        \n",
    "    def size(self):\n",
    "        return self.d_size\n",
    "    \n",
    "    def rappend(self, data):\n",
    "        new_node = Node(data)\n",
    "        if self.empty():\n",
    "            self.head = new_node\n",
    "            self.tail = new_node\n",
    "            self.d_size += 1\n",
    "            \n",
    "        else:\n",
    "            self.tail.next = new_node\n",
    "            new_node.prev = self.tail\n",
    "            self.tail = new_node\n",
    "            self.d_size += 1\n",
    "            \n",
    "    def lappend(self, data):\n",
    "        new_node = Node(data)\n",
    "        \n",
    "        if self.empty():\n",
    "            self.head = new_node\n",
    "            self.tail = new_node\n",
    "            self.d_size += 1\n",
    "            \n",
    "        else:\n",
    "            self.head.prev = new_node\n",
    "            new_node.next = self.head\n",
    "            self.head = new_node\n",
    "            self.d_size += 1\n",
    "            \n",
    "    def __search_lpos(self, pos):\n",
    "        \n",
    "        if pos > self.size() - 1:\n",
    "            return None\n",
    "        \n",
    "    \n",
    "\n",
    "        cnt = 0\n",
    "        cur = self.head\n",
    "\n",
    "        if cnt == pos:\n",
    "            return cur.data\n",
    "\n",
    "        while pos > cnt:\n",
    "\n",
    "            cnt += 1\n",
    "            cur = cur.next\n",
    "        return cur.data\n",
    "    \n",
    "    def __search_rpos(self, pos):\n",
    "        \n",
    "        pos = abs(pos) - 1\n",
    "        \n",
    "        if pos > self.size() -1:\n",
    "            return None\n",
    "        \n",
    "        cnt = 0\n",
    "        cur = self.tail\n",
    "        \n",
    "        if cnt == pos:\n",
    "            return cur.data\n",
    "        \n",
    "        while pos > cnt:\n",
    "            \n",
    "            cnt += 1\n",
    "            cur = cur.prev\n",
    "            \n",
    "        return cur.data\n",
    "    \n",
    "    def search_pos(self, pos):\n",
    "        if pos >= 0:\n",
    "            return self.__search_lpos(pos)\n",
    "        else:\n",
    "            return self.__search_rpos(pos)\n",
    "        \n",
    "        \n",
    "    def __search_data(self, target, start):\n",
    "        if self.empty():\n",
    "            return None, None\n",
    "        \n",
    "        pos = 0\n",
    "        cur = self.head\n",
    "        if pos >= start and target == cur.data:\n",
    "            return cur, pos #왜 여기가 cur.data를 하게 되면 안되지?\n",
    "        \n",
    "        while cur.next:\n",
    "\n",
    "            pos += 1\n",
    "            cur = cur.next\n",
    "\n",
    "            \n",
    "            if pos >= start and target == cur.data:\n",
    "                return cur, pos #왜 여기가 cur.data를 하게 되면 안되지?\n",
    "            \n",
    "        return None, None\n",
    "    \n",
    "    def search_target(self, target, start = 0):\n",
    "        cur, pos = self.__search_data(target, start)\n",
    "        if not pos:\n",
    "            return None, None\n",
    "        else:\n",
    "            return cur.data, pos\n",
    "    \n",
    "    def remove(self, target):\n",
    "        if self.empty():\n",
    "            return None\n",
    "        \n",
    "        cur, _ = self.__search_data(target, 0)\n",
    "        \n",
    "        if not cur:\n",
    "            return None\n",
    "        \n",
    "        if not cur.prev and not cur.next:\n",
    "            self.head = None\n",
    "            self.tail = None\n",
    "            \n",
    "        elif not cur.prev:\n",
    "            self.head = cur.next\n",
    "            cur.next.prev = None\n",
    "            \n",
    "        elif not cur.next:\n",
    "    \n",
    "            self.tail = cur.prev\n",
    "            cur.prev.next = None        \n",
    "            \n",
    "        else:\n",
    "            cur.next.prev = cur.prev\n",
    "            cur.prev.next = cur.next\n",
    "            \n",
    "        self.d_size -= 1\n",
    "        return cur.data\n",
    "    \n",
    "    def show_list(slist):\n",
    "        if slist.empty():\n",
    "            print(\"The list is empty\")\n",
    "            return\n",
    "        \n",
    "        for i in range(slist.size()):\n",
    "            print(slist.search_pos(i), end = \" \")\n",
    "            \n",
    "    def __repr__(self):\n",
    "        \n",
    "        if self.empty():\n",
    "            return \"[]\"\n",
    "        \n",
    "        cur = self.head\n",
    "        string = \"[{}\".format(cur.data)\n",
    "        \n",
    "        while cur.next:\n",
    "            cur = cur.next\n",
    "            string += \", {}\".format(cur.data)\n",
    "        string += \"]\"\n",
    "        \n",
    "        return string\n",
    "    \n",
    "    def __str__(self):\n",
    "        \n",
    "        if self.empty():\n",
    "            return \"[]\"\n",
    "        \n",
    "        cur = self.head\n",
    "        string = \"[{}\".format(cur.data)\n",
    "        \n",
    "        while cur.next:\n",
    "            cur = cur.next\n",
    "            string += \", {}\".format(cur.data)\n",
    "        string += \"]\"\n",
    "        \n",
    "        return string"
   ]
  },
  {
   "cell_type": "code",
   "execution_count": null,
   "metadata": {},
   "outputs": [],
   "source": []
  },
  {
   "cell_type": "code",
   "execution_count": 3,
   "metadata": {},
   "outputs": [],
   "source": [
    "slist = Linked_list()"
   ]
  },
  {
   "cell_type": "code",
   "execution_count": 4,
   "metadata": {},
   "outputs": [],
   "source": [
    "slist.rappend(3)\n",
    "slist.rappend(2)\n",
    "slist.lappend(4)\n"
   ]
  },
  {
   "cell_type": "code",
   "execution_count": 5,
   "metadata": {},
   "outputs": [
    {
     "data": {
      "text/plain": [
       "[4, 3, 2]"
      ]
     },
     "execution_count": 5,
     "metadata": {},
     "output_type": "execute_result"
    }
   ],
   "source": [
    "slist"
   ]
  },
  {
   "cell_type": "code",
   "execution_count": 95,
   "metadata": {},
   "outputs": [
    {
     "name": "stdout",
     "output_type": "stream",
     "text": [
      "4 3 2 "
     ]
    }
   ],
   "source": [
    "slist.show_list()"
   ]
  },
  {
   "cell_type": "code",
   "execution_count": 96,
   "metadata": {},
   "outputs": [
    {
     "name": "stdout",
     "output_type": "stream",
     "text": [
      "data of 2i s deleted\n"
     ]
    },
    {
     "data": {
      "text/plain": [
       "2"
      ]
     },
     "execution_count": 96,
     "metadata": {},
     "output_type": "execute_result"
    }
   ],
   "source": [
    "slist.remove(2)"
   ]
  },
  {
   "cell_type": "code",
   "execution_count": 97,
   "metadata": {},
   "outputs": [
    {
     "data": {
      "text/plain": [
       "[4, 3]"
      ]
     },
     "execution_count": 97,
     "metadata": {},
     "output_type": "execute_result"
    }
   ],
   "source": [
    "slist"
   ]
  },
  {
   "cell_type": "code",
   "execution_count": 7,
   "metadata": {},
   "outputs": [
    {
     "data": {
      "text/plain": [
       "(4, 3, 2)"
      ]
     },
     "execution_count": 7,
     "metadata": {},
     "output_type": "execute_result"
    }
   ],
   "source": [
    "slist.search_pos(0), slist.search_pos(1), slist.search_pos(2)\n"
   ]
  },
  {
   "cell_type": "code",
   "execution_count": 8,
   "metadata": {},
   "outputs": [],
   "source": [
    "slist.remove(2)"
   ]
  },
  {
   "cell_type": "code",
   "execution_count": 139,
   "metadata": {},
   "outputs": [
    {
     "data": {
      "text/plain": [
       "[2]"
      ]
     },
     "execution_count": 139,
     "metadata": {},
     "output_type": "execute_result"
    }
   ],
   "source": [
    "slist"
   ]
  },
  {
   "cell_type": "code",
   "execution_count": null,
   "metadata": {},
   "outputs": [],
   "source": []
  },
  {
   "cell_type": "code",
   "execution_count": 9,
   "metadata": {},
   "outputs": [],
   "source": [
    "class Node:\n",
    "    def __init__(self, data = None):\n",
    "        self.__data = data\n",
    "        self.__next = None\n",
    "        self.__prev = None\n",
    "        \n",
    "    def __del__(self):\n",
    "        print(\"data of {}i s deleted\".format(self.data))\n",
    "        \n",
    "    @property\n",
    "    def data(self):\n",
    "        return self.__data\n",
    "    \n",
    "    @data.setter\n",
    "    def data(self, data):\n",
    "        self.__data = data\n",
    "        \n",
    "    @property\n",
    "    def next(self):\n",
    "        return self.__next\n",
    "    \n",
    "    @next.setter\n",
    "    def next(self, n):\n",
    "        self.__next = n\n",
    "        \n",
    "    @property\n",
    "    def prev(self):\n",
    "        return self.__prev\n",
    "    \n",
    "    @prev.setter\n",
    "    def prev(self, n):\n",
    "        self.__prev = n\n",
    "        \n",
    "    \n",
    "    "
   ]
  },
  {
   "cell_type": "code",
   "execution_count": 10,
   "metadata": {},
   "outputs": [],
   "source": [
    "class Linked_list:\n",
    "    \n",
    "    def __init__(self):\n",
    "        self.head = None\n",
    "        self.tail = None\n",
    "        self.d_size = 0\n",
    "        \n",
    "    def empty(self):\n",
    "        if self.d_size == 0:\n",
    "            return True\n",
    "        else:\n",
    "            return False\n",
    "        \n",
    "    def size(self):\n",
    "        return self.d_size\n",
    "    \n",
    "    def append(self, data):\n",
    "        new_node = Node(data)\n",
    "        \n",
    "        if self.empty():\n",
    "            self.head = new_node\n",
    "            self.tail = new_node\n",
    "            self.d_size += 1\n",
    "            \n",
    "        else:\n",
    "            self.tail.next = new_node\n",
    "            self.tail = new_node\n",
    "            self.d_size += 1\n",
    "            \n",
    "    def search_target(self, target, start = 0):\n",
    "        \n",
    "        if self.empty():\n",
    "            return None\n",
    "        \n",
    "        pos = 0\n",
    "        cur = self.head\n",
    "        \n",
    "        if pos >= start and target == cur.data:\n",
    "            return cur.data, pos\n",
    "        \n",
    "        while cur.next:\n",
    "            pos += 1\n",
    "            cur = cur.next\n",
    "            \n",
    "            if pos >= start and target == cur.data:\n",
    "                return cur.data, pos\n",
    "            \n",
    "            return None, None\n",
    "        \n",
    "    def search_pos(self, pos):\n",
    "        \n",
    "        if pos > self.size() - 1:\n",
    "            return None\n",
    "        \n",
    "        cnt = 0\n",
    "        cur = self.head\n",
    "        if pos == cnt:\n",
    "            return cur.data\n",
    "        \n",
    "        while pos > cnt:\n",
    "            cnt += 1\n",
    "            cur = cur.next\n",
    "        \n",
    "        return cur.data\n",
    "    \n",
    "    def remove(self,target):\n",
    "        \n",
    "        if self.empty():\n",
    "            return None\n",
    "        \n",
    "        bef = self.head\n",
    "        cur = self.head\n",
    "        \n",
    "        if target == cur.data:\n",
    "            if self.size() == 1:\n",
    "                self.head = None\n",
    "                self.tail = None\n",
    "        \n",
    "        else:\n",
    "            self.head = self.head.next\n",
    "        self.d_size -= 1\n",
    "        return cur.data\n",
    "    \n",
    "        while cur.next:\n",
    "            bef = cur\n",
    "            cur = cur.next\n",
    "            \n",
    "            if target == cur.data:\n",
    "                if cur == self.tail:\n",
    "                    self.tail = bef\n",
    "                    \n",
    "                bef.next = cur.next\n",
    "                self.d_size -= 1\n",
    "                return cur.data\n",
    "            \n",
    "        return None\n",
    "    \n",
    "def show_list(slist):\n",
    "    \n",
    "    if slist.empty():\n",
    "        print(\"The list is empty\")\n",
    "        return\n",
    "    \n",
    "    for i in range(slist.size()):\n",
    "        print(slist.search_pos(i), end = \" \")\n",
    "        "
   ]
  },
  {
   "cell_type": "code",
   "execution_count": 16,
   "metadata": {},
   "outputs": [
    {
     "name": "stdout",
     "output_type": "stream",
     "text": [
      "data of 3i s deleted\n",
      "data of 1i s deleted\n",
      "data of 5i s deleted\n",
      "data of 2i s deleted\n",
      "data of 10i s deleted\n",
      "data of 7i s deleted\n",
      "data of 2i s deleted\n",
      "데이터 개수: 0\n",
      "The list is empty\n",
      "\n",
      "데이터 개수: 7\n",
      "3 1 5 2 10 7 2 \n",
      "data of 3i s deleted\n",
      "데이터 개수: 6\n",
      "1 5 2 10 7 2 \n"
     ]
    }
   ],
   "source": [
    "if __name__ == \"__main__\":\n",
    "    slist = Linked_list()\n",
    "    print(\"데이터 개수: {}\".format(slist.size()))\n",
    "    show_list(slist)\n",
    "    print()\n",
    "    \n",
    "    slist.append(3)\n",
    "    slist.append(1)\n",
    "    slist.append(5)\n",
    "    slist.append(2)\n",
    "    slist.append(10)\n",
    "    slist.append(7)\n",
    "    slist.append(2)\n",
    "    \n",
    "    print(\"데이터 개수: {}\".format(slist.size()))\n",
    "    show_list(slist)\n",
    "    print()\n",
    "    \n",
    "    slist.remove(10)\n",
    "    \n",
    "    print(\"데이터 개수: {}\".format(slist.size()))\n",
    "    show_list(slist)\n",
    "    print()\n",
    "    "
   ]
  },
  {
   "cell_type": "code",
   "execution_count": null,
   "metadata": {},
   "outputs": [],
   "source": []
  },
  {
   "cell_type": "code",
   "execution_count": null,
   "metadata": {},
   "outputs": [],
   "source": []
  }
 ],
 "metadata": {
  "kernelspec": {
   "display_name": "Python 3",
   "language": "python",
   "name": "python3"
  },
  "language_info": {
   "codemirror_mode": {
    "name": "ipython",
    "version": 3
   },
   "file_extension": ".py",
   "mimetype": "text/x-python",
   "name": "python",
   "nbconvert_exporter": "python",
   "pygments_lexer": "ipython3",
   "version": "3.7.3"
  }
 },
 "nbformat": 4,
 "nbformat_minor": 2
}
