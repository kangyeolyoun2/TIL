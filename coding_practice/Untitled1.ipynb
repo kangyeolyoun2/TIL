{
 "cells": [
  {
   "cell_type": "code",
   "execution_count": 127,
   "metadata": {},
   "outputs": [
    {
     "name": "stdout",
     "output_type": "stream",
     "text": [
      "[]\n",
      "YES\n"
     ]
    }
   ],
   "source": [
    "\n",
    "b_dict = {chr(41) : chr(40), chr(93) : chr(91), chr(125) : chr(123)}\n",
    "b_inv = {v : k for k, v in b_dict.items()}\n",
    "stack = []\n",
    "\n",
    "for i in input():\n",
    "    if stack and stack[-1] == b_dict.get(i) :\n",
    "        stack.pop()\n",
    "    else:\n",
    "        stack.append(i)\n",
    "print(\"NO\" if stack else \"YES\")\n",
    "    "
   ]
  },
  {
   "cell_type": "code",
   "execution_count": 128,
   "metadata": {},
   "outputs": [
    {
     "data": {
      "text/plain": [
       "{'(': ')', '[': ']', '{': '}'}"
      ]
     },
     "execution_count": 128,
     "metadata": {},
     "output_type": "execute_result"
    }
   ],
   "source": [
    "b_inv"
   ]
  },
  {
   "cell_type": "code",
   "execution_count": 130,
   "metadata": {},
   "outputs": [
    {
     "name": "stdout",
     "output_type": "stream",
     "text": [
      "[]{}\n",
      "YES\n"
     ]
    }
   ],
   "source": [
    "#2번째 순서 제대로\n",
    "b_dict = {chr(40) : chr(41), chr(91) : chr(93), chr(123) : chr(125)}\n",
    "b_inv = {v : k for k, v in b_dict.items()}\n",
    "\n",
    "for i in input():\n",
    "    if stack and stack[-1] == b_inv.get(i) :\n",
    "        stack.pop()\n",
    "    else:\n",
    "        stack.append(i)\n",
    "print(\"NO\" if stack else \"YES\")\n"
   ]
  },
  {
   "cell_type": "code",
   "execution_count": null,
   "metadata": {},
   "outputs": [],
   "source": []
  },
  {
   "cell_type": "code",
   "execution_count": null,
   "metadata": {},
   "outputs": [],
   "source": [
    "stack = []\n",
    "for i in input():\n",
    "    if "
   ]
  },
  {
   "cell_type": "code",
   "execution_count": null,
   "metadata": {},
   "outputs": [],
   "source": []
  },
  {
   "cell_type": "code",
   "execution_count": null,
   "metadata": {},
   "outputs": [],
   "source": []
  },
  {
   "cell_type": "code",
   "execution_count": null,
   "metadata": {},
   "outputs": [],
   "source": []
  },
  {
   "cell_type": "code",
   "execution_count": null,
   "metadata": {},
   "outputs": [],
   "source": []
  }
 ],
 "metadata": {
  "kernelspec": {
   "display_name": "Python 3",
   "language": "python",
   "name": "python3"
  },
  "language_info": {
   "codemirror_mode": {
    "name": "ipython",
    "version": 3
   },
   "file_extension": ".py",
   "mimetype": "text/x-python",
   "name": "python",
   "nbconvert_exporter": "python",
   "pygments_lexer": "ipython3",
   "version": "3.7.3"
  }
 },
 "nbformat": 4,
 "nbformat_minor": 2
}
