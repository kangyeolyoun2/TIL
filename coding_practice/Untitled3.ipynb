{
 "cells": [
  {
   "cell_type": "code",
   "execution_count": 11,
   "metadata": {},
   "outputs": [],
   "source": [
    "class TreeNode():\n",
    "    \n",
    "    def __init__(self):\n",
    "        self.__data = None\n",
    "        self.__left = None\n",
    "        self.__right = None\n",
    "        \n",
    "    def __del__(self):\n",
    "        print(\"data of {} is deleted\".format(self.data))\n",
    "        \n",
    "    @property\n",
    "    def data(self):\n",
    "        return self.__data\n",
    "    \n",
    "    @data.setter\n",
    "    def data(self, data):\n",
    "        self.__data =data\n",
    "        \n",
    "    @property\n",
    "    def left(self):\n",
    "        return self.__left\n",
    "    \n",
    "    @left.setter\n",
    "    def left(self, left):\n",
    "        self.__left = left\n",
    "        \n",
    "    @property\n",
    "    def right(self):\n",
    "        return self.__right\n",
    "    \n",
    "    @right.setter\n",
    "    def right(self, right):\n",
    "        self.__right = right"
   ]
  },
  {
   "cell_type": "code",
   "execution_count": 21,
   "metadata": {},
   "outputs": [
    {
     "name": "stdout",
     "output_type": "stream",
     "text": [
      "data of 50 is deleted\n",
      "data of 30 is deleted\n",
      "data of 24 is deleted\n",
      "data of 5 is deleted\n",
      "data of 28 is deleted\n",
      "data of 45 is deleted\n",
      "data of 98 is deleted\n",
      "data of 52 is deleted\n",
      "data of 60 is deleted\n"
     ]
    }
   ],
   "source": [
    "class BST():\n",
    "    def __init__(self):\n",
    "        self.root = None\n",
    "        \n",
    "    def get_root(self):\n",
    "        return self.root\n",
    "    \n",
    "    def preorder_traverse(self, cur, func):\n",
    "        \n",
    "        if not cur:\n",
    "            return\n",
    "        \n",
    "        func(cur.data)\n",
    "        self.preorder_traverse(cur.left, func)\n",
    "        self.preorder_traverse(cur.right, func)\n",
    "        \n",
    "    def postorder_traverse(self, cur, func):\n",
    "        \n",
    "        if not cur:\n",
    "            return\n",
    "        \n",
    "        self.postorder_traverse(cur.left, func)\n",
    "        self.postorder_traverse(cur.right, func)\n",
    "        func(cur.data)\n",
    "        \n",
    "    def insert(self, data):\n",
    "        new_node = TreeNode()\n",
    "        new_node.data = data\n",
    "        \n",
    "        cur = self.root\n",
    "        \n",
    "        if cur == None:\n",
    "            self.root = new_node\n",
    "            return\n",
    "        \n",
    "        while True:\n",
    "            parent = cur\n",
    "            if data < cur.data:\n",
    "                cur = cur.left\n",
    "                if not cur:\n",
    "                    parent.left = new_node\n",
    "                    return\n",
    "                \n",
    "            else:\n",
    "                cur = cur.right\n",
    "                if not cur:\n",
    "                    parent.right = new_node\n",
    "                    return\n",
    "    \n",
    "    def search(self, target):\n",
    "        \n",
    "        cur = self.root\n",
    "        \n",
    "        if not cur:\n",
    "            return None\n",
    "        \n",
    "        while cur:\n",
    "            \n",
    "            if target == cur.data:\n",
    "                return cur\n",
    "            \n",
    "            elif target < cur.data:\n",
    "                cur = cur.left\n",
    "                \n",
    "            elif target > cur.data:\n",
    "                cur = cur.right\n",
    "            \n",
    "        return cur\n",
    "    \n",
    "    def __remove_recursion(self, cur, target):\n",
    "        \n",
    "        if cur == None:\n",
    "            return None, None\n",
    "        \n",
    "        \n",
    "            \n",
    "        elif target < cur.data:\n",
    "            cur.left, rem_node = self.__remove_recursion(cur.left, target)\n",
    "\n",
    "        elif target > cur.data:\n",
    "            cur.right, rem_node = self.__remove_recursion(cur.right, target)\n",
    "\n",
    "\n",
    "        else:\n",
    "\n",
    "            if not cur.left and not cur.right:\n",
    "                rem_node = cur\n",
    "                cur = None\n",
    "\n",
    "            elif not cur.left:\n",
    "                rem_node = cur\n",
    "                cur = cur.right\n",
    "\n",
    "            elif not cur.right:\n",
    "                rem_node = cur\n",
    "                cur = cur.left\n",
    "\n",
    "            else:\n",
    "\n",
    "                replace = cur.left\n",
    "\n",
    "                while replace.right:\n",
    "                    replace = replace.right\n",
    "\n",
    "                cur.data, replace.data = replace.data, cur.data\n",
    "                cur.left, rem_node = self.__remove_recursion(cur.left, replace.data)\n",
    "\n",
    "        return cur, rem_node\n",
    "\n",
    "\n",
    "    def remove(self, target):\n",
    "        \n",
    "        self.root, removed_node = self.__remove_recursion(self.root, target)\n",
    "        removed_node.left = removed_node.right = None\n",
    "        return removed_node\n",
    "\n"
   ]
  },
  {
   "cell_type": "code",
   "execution_count": 24,
   "metadata": {},
   "outputs": [
    {
     "name": "stdout",
     "output_type": "stream",
     "text": [
      "50 30 24 5 28 45 98 52 60 \n",
      "data of 50 is deleted\n",
      "data of 30 is deleted\n",
      "data of 24 is deleted\n",
      "data of 5 is deleted\n",
      "data of 28 is deleted\n",
      "data of 45 is deleted\n",
      "data of 98 is deleted\n",
      "data of 60 is deleted\n",
      "50\n",
      "\n",
      "50 30 24 5 28 45 98 52 60 \n",
      "5 28 24 45 30 60 52 98 50 "
     ]
    }
   ],
   "source": [
    "if __name__ == \"__main__\":\n",
    "    bst = BST()\n",
    "    bst.insert(50)\n",
    "    bst.insert(30)\n",
    "    bst.insert(24)\n",
    "    bst.insert(5)\n",
    "    bst.insert(28)\n",
    "    bst.insert(45)\n",
    "    bst.insert(98)\n",
    "    bst.insert(52)\n",
    "    bst.insert(60)\n",
    "    \n",
    "    f = lambda x: print(x, end=\" \")\n",
    "    bst.preorder_traverse(bst.root, f)\n",
    "    print()\n",
    "    \n",
    "    n1 = bst.search(50)\n",
    "    print(n1.data)\n",
    "    print()\n",
    "    \n",
    "\n",
    "\n",
    "\n",
    "    bst.preorder_traverse(bst.get_root(), f)\n",
    "    print()\n",
    "    bst.postorder_traverse(bst.get_root(), f)"
   ]
  },
  {
   "cell_type": "code",
   "execution_count": null,
   "metadata": {},
   "outputs": [],
   "source": [
    "    f = lambda x: print(x, end=\" \")\n",
    "    bst.preorder_traverse(bst.root, f)"
   ]
  },
  {
   "cell_type": "code",
   "execution_count": 34,
   "metadata": {},
   "outputs": [
    {
     "name": "stdout",
     "output_type": "stream",
     "text": [
      "50 30 24\n"
     ]
    }
   ],
   "source": [
    "n = input().split(\" \")\n",
    "b = list(map(int, n))\n"
   ]
  },
  {
   "cell_type": "code",
   "execution_count": 35,
   "metadata": {},
   "outputs": [
    {
     "name": "stdout",
     "output_type": "stream",
     "text": [
      "50\n",
      "30\n",
      "24\n"
     ]
    }
   ],
   "source": [
    "for i in b:\n",
    "    print(i)\n",
    "    bst.insert(i)"
   ]
  },
  {
   "cell_type": "code",
   "execution_count": 44,
   "metadata": {},
   "outputs": [
    {
     "name": "stdout",
     "output_type": "stream",
     "text": [
      "data of 50 is deleted\n",
      "data of 30 is deleted\n",
      "data of 24 is deleted\n",
      "data of 5 is deleted\n",
      "data of 28 is deleted\n",
      "data of 45 is deleted\n",
      "data of 98 is deleted\n",
      "data of 52 is deleted\n",
      "data of 60 is deleted\n",
      "50\n",
      "30\n",
      "24\n",
      "5\n",
      "28\n",
      "45\n",
      "98\n",
      "52\n",
      "60\n",
      " \n",
      "5\n",
      "28\n",
      "24\n",
      "45\n",
      "30\n",
      "60\n",
      "52\n",
      "98\n",
      "50\n"
     ]
    }
   ],
   "source": [
    "if __name__ == \"__main__\":\n",
    "    bst = BST()\n",
    "    while True:\n",
    "        try:\n",
    "            num = int(input())\n",
    "            bst.insert(num)\n",
    "        except:\n",
    "            break\n",
    "    f = lambda x: print(x)\n",
    "    bst.postorder_traverse(bst.root, f)"
   ]
  },
  {
   "cell_type": "code",
   "execution_count": null,
   "metadata": {},
   "outputs": [],
   "source": [
    "f = lambda x: print(x, end = \"\\n\")\n",
    "bst.postorder_traverse(bst.root, f)"
   ]
  }
 ],
 "metadata": {
  "kernelspec": {
   "display_name": "Python 3",
   "language": "python",
   "name": "python3"
  },
  "language_info": {
   "codemirror_mode": {
    "name": "ipython",
    "version": 3
   },
   "file_extension": ".py",
   "mimetype": "text/x-python",
   "name": "python",
   "nbconvert_exporter": "python",
   "pygments_lexer": "ipython3",
   "version": "3.7.4"
  }
 },
 "nbformat": 4,
 "nbformat_minor": 2
}
