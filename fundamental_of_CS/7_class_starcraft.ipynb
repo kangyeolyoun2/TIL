{
 "cells": [
  {
   "cell_type": "code",
   "execution_count": 1,
   "metadata": {},
   "outputs": [],
   "source": [
    "class Human:\n",
    "    population = 0\n",
    "    \n",
    "    def __init__(self, max_health = 50):\n",
    "        self.max_health = max_health\n",
    "        self.health = max_health\n",
    "        self.status = \"alive\"\n",
    "        Human.population += 1\n",
    "        \n",
    "    def set_health(self, var, attack_kind):\n",
    "        self.health += var\n",
    "        if self.health > self.max_health:\n",
    "            self.health = self.max_health\n",
    "        elif self.health <= 0:\n",
    "            self.health = 0\n",
    "            self.status = \"dead\"\n",
    "        \n",
    "    @property\n",
    "    def status(self):\n",
    "        return self.__status\n",
    "    \n",
    "    @status.setter\n",
    "    def status(self, stat):\n",
    "        if stat in (\"alive\", \"dead\"):\n",
    "            self.__status = stat\n",
    "        if stat == \"dead\":\n",
    "            Human.population -= 1\n",
    "            \n",
    "    def summary(self):\n",
    "        print(\"Health: {}/{}, Status: {}\".format(self.health, self.max_health, self.status))"
   ]
  },
  {
   "cell_type": "code",
   "execution_count": 2,
   "metadata": {},
   "outputs": [],
   "source": [
    "from abc import *\n",
    "\n",
    "class Attacker(Human, metaclass = ABCMeta):\n",
    "    \n",
    "    def __init__(self, attack_pow = None, attack_kind = None):\n",
    "        super().__init__()\n",
    "        self.attack_kind = attack_kind\n",
    "        self.attack_pow = attack_pow\n",
    "        self.kill_count = 0\n",
    "\n",
    "    @abstractmethod\n",
    "    def attack(self, other):\n",
    "        pass"
   ]
  },
  {
   "cell_type": "code",
   "execution_count": 3,
   "metadata": {},
   "outputs": [],
   "source": [
    "class Marin(Attacker):\n",
    "    def __init__(self, attack_pow = 10, attack_kind = \"rifle\"):\n",
    "        super().__init__()\n",
    "        self.attack_kind = attack_kind\n",
    "        self.attack_pow = attack_pow\n",
    "        \n",
    "    def attack(self, obj):\n",
    "        if obj.status == \"dead\": # 이미 객체가 죽어있으면\n",
    "            print(\"already dead\")\n",
    "            return\n",
    "        \n",
    "        obj.set_health(-self.attack_pow, self.attack_kind) # 객체를 공격한다\n",
    "        if obj.status == \"dead\": # 객체가 죽었으면\n",
    "            self.kill_count += 1 # 킬 카운트를 1 늘려주고\n",
    "            print(\"kill\")"
   ]
  },
  {
   "cell_type": "code",
   "execution_count": 4,
   "metadata": {},
   "outputs": [],
   "source": [
    "class Ghost(Attacker):\n",
    "    def __init__(self, attack_pow = 7, attack_kind = \"sniper rifle\"):\n",
    "        super().__init__()\n",
    "        self.attack_kind = attack_kind\n",
    "        self.attack_pow = attack_pow\n",
    "        \n",
    "    def attack(self, obj):\n",
    "        if obj.status == \"dead\": # 이미 객체가 죽어있으면\n",
    "            print(\"already dead\")\n",
    "            return\n",
    "        \n",
    "        obj.set_health(-self.attack_pow, self.attack_kind) # 객체를 공격한다\n",
    "        if obj.status == \"dead\": # 객체가 죽었으면\n",
    "            self.kill_count += 1 # 킬 카운트를 1 늘려주고\n",
    "            print(\"kill\")"
   ]
  },
  {
   "cell_type": "code",
   "execution_count": 5,
   "metadata": {},
   "outputs": [],
   "source": [
    "class Medic(Human):\n",
    "    def __init__(self, max_health = 60):\n",
    "        super().__init__()\n",
    "        self.max_health = max_health\n",
    "        self.health = max_health\n",
    "        self.heal_box = 3\n",
    "        self.heal_pow = 30\n",
    "        \n",
    "    def set_health(self, var, attack_kind):\n",
    "        if attack_kind == \"sniper rifle\":\n",
    "            var *= 2        \n",
    "        self.health += var\n",
    "        if self.health > self.max_health:\n",
    "            self.health = self.max_health\n",
    "        elif self.health <= 0:\n",
    "            self.health = 0\n",
    "            self.status = \"dead\"\n",
    "            \n",
    "    def heal(self, obj):\n",
    "        if obj.status == \"dead\":\n",
    "            print(\"already dead\")\n",
    "            return\n",
    "        if self.heal_box <= 0:\n",
    "            print(\"Don't have heal box\")\n",
    "            return\n",
    "        obj.set_health(self.heal_pow, \"heal\")\n",
    "        self.heal_box -= 1"
   ]
  },
  {
   "cell_type": "code",
   "execution_count": 6,
   "metadata": {},
   "outputs": [],
   "source": [
    "marin1, marin2, marin3 = Marin(), Marin(), Marin()\n",
    "ghost1 = Ghost()\n",
    "medic1 = Medic()"
   ]
  },
  {
   "cell_type": "code",
   "execution_count": 23,
   "metadata": {},
   "outputs": [
    {
     "data": {
      "text/plain": [
       "4"
      ]
     },
     "execution_count": 23,
     "metadata": {},
     "output_type": "execute_result"
    }
   ],
   "source": [
    "Human.population"
   ]
  },
  {
   "cell_type": "code",
   "execution_count": 13,
   "metadata": {},
   "outputs": [
    {
     "name": "stdout",
     "output_type": "stream",
     "text": [
      "kill\n"
     ]
    }
   ],
   "source": [
    "marin1.attack(marin2)"
   ]
  },
  {
   "cell_type": "code",
   "execution_count": 14,
   "metadata": {},
   "outputs": [
    {
     "data": {
      "text/plain": [
       "1"
      ]
     },
     "execution_count": 14,
     "metadata": {},
     "output_type": "execute_result"
    }
   ],
   "source": [
    "marin1.kill_count"
   ]
  },
  {
   "cell_type": "code",
   "execution_count": 15,
   "metadata": {},
   "outputs": [
    {
     "data": {
      "text/plain": [
       "'dead'"
      ]
     },
     "execution_count": 15,
     "metadata": {},
     "output_type": "execute_result"
    }
   ],
   "source": [
    "marin2.status"
   ]
  },
  {
   "cell_type": "code",
   "execution_count": 17,
   "metadata": {},
   "outputs": [],
   "source": [
    "marin1.attack(marin3)"
   ]
  },
  {
   "cell_type": "code",
   "execution_count": 21,
   "metadata": {},
   "outputs": [
    {
     "name": "stdout",
     "output_type": "stream",
     "text": [
      "Health: 50/50, Status: alive\n"
     ]
    }
   ],
   "source": [
    "marin3.summary()"
   ]
  },
  {
   "cell_type": "code",
   "execution_count": 20,
   "metadata": {},
   "outputs": [],
   "source": [
    "medic1.heal(marin3)"
   ]
  },
  {
   "cell_type": "code",
   "execution_count": 22,
   "metadata": {},
   "outputs": [
    {
     "name": "stdout",
     "output_type": "stream",
     "text": [
      "already dead\n"
     ]
    }
   ],
   "source": [
    "medic1.heal(marin2)"
   ]
  },
  {
   "cell_type": "code",
   "execution_count": 24,
   "metadata": {},
   "outputs": [
    {
     "data": {
      "text/plain": [
       "'alive'"
      ]
     },
     "execution_count": 24,
     "metadata": {},
     "output_type": "execute_result"
    }
   ],
   "source": [
    "marin1.status"
   ]
  },
  {
   "cell_type": "code",
   "execution_count": 25,
   "metadata": {},
   "outputs": [
    {
     "data": {
      "text/plain": [
       "'dead'"
      ]
     },
     "execution_count": 25,
     "metadata": {},
     "output_type": "execute_result"
    }
   ],
   "source": [
    "marin2.status"
   ]
  },
  {
   "cell_type": "code",
   "execution_count": null,
   "metadata": {},
   "outputs": [],
   "source": []
  }
 ],
 "metadata": {
  "kernelspec": {
   "display_name": "Python 3",
   "language": "python",
   "name": "python3"
  },
  "language_info": {
   "codemirror_mode": {
    "name": "ipython",
    "version": 3
   },
   "file_extension": ".py",
   "mimetype": "text/x-python",
   "name": "python",
   "nbconvert_exporter": "python",
   "pygments_lexer": "ipython3",
   "version": "3.7.3"
  }
 },
 "nbformat": 4,
 "nbformat_minor": 2
}
