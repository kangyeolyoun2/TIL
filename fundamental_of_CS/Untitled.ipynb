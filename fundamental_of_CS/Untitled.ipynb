{
 "cells": [
  {
   "cell_type": "code",
   "execution_count": 10,
   "metadata": {},
   "outputs": [],
   "source": [
    "class CarOwner:\n",
    "    \n",
    "    def __init__(self, name):\n",
    "        self.name = name\n",
    "        \n",
    "    def concentrate(self):\n",
    "        print(\"{} can't do anything\".format(self.name))\n",
    "        \n",
    "class Car:\n",
    "    \n",
    "    def __init__(self, car_owner):\n",
    "        self.car_owner = CarOwner(car_owner)\n",
    "        \n",
    "    def drive(self):\n",
    "        self.car_owner.concentrate()\n",
    "        print(\"{} is driving now\".format(self.car_owner.name))"
   ]
  },
  {
   "cell_type": "code",
   "execution_count": 12,
   "metadata": {},
   "outputs": [
    {
     "name": "stdout",
     "output_type": "stream",
     "text": [
      "John can't do anything\n",
      "John is driving now\n"
     ]
    }
   ],
   "source": [
    "if __name__ == \"__main__\":\n",
    "    car = Car(\"John\")\n",
    "    car.drive()"
   ]
  },
  {
   "cell_type": "code",
   "execution_count": null,
   "metadata": {},
   "outputs": [],
   "source": []
  }
 ],
 "metadata": {
  "kernelspec": {
   "display_name": "Python 3",
   "language": "python",
   "name": "python3"
  },
  "language_info": {
   "codemirror_mode": {
    "name": "ipython",
    "version": 3
   },
   "file_extension": ".py",
   "mimetype": "text/x-python",
   "name": "python",
   "nbconvert_exporter": "python",
   "pygments_lexer": "ipython3",
   "version": "3.7.3"
  }
 },
 "nbformat": 4,
 "nbformat_minor": 2
}
