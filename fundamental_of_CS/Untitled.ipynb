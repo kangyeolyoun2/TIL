{
 "cells": [
  {
   "cell_type": "code",
   "execution_count": null,
   "metadata": {},
   "outputs": [],
   "source": [
    "# 5장. Function\n",
    "- 스택: 접시 쌓기, 마지막에 들어온 데이터가 가장 먼저 나가는 구조\n",
    "\n",
    "## 1. 전역 변수와 지역 변수\n",
    "- 전역변수(global variable): 전체 영역에서 접근할 수 있는 변수, 함수안에서도 접근가능\n",
    "- 지역변수(local vairable): 특정 지역(함수 내부) 안에서만 접근할 수 있는 변수\n",
    "\n",
    "\n",
    "---\n",
    "```python\n",
    "g_var = 10 #1\n",
    "\n",
    "def func():\n",
    "    global g_var\n",
    "    g_var = 20\n",
    "    \n",
    "if __name__ == \"__main__\":\n",
    "    print(\"g_var : {} before\".format(g_var))\n",
    "    func()\n",
    "    print(\"g_var : {} after\".format(g_var))\n",
    "```\n",
    "    `g_var : 10 before`\n",
    "    `g_var : 20 after`\n",
    "---"
   ]
  }
 ],
 "metadata": {
  "kernelspec": {
   "display_name": "Python 3",
   "language": "python",
   "name": "python3"
  },
  "language_info": {
   "codemirror_mode": {
    "name": "ipython",
    "version": 3
   },
   "file_extension": ".py",
   "mimetype": "text/x-python",
   "name": "python",
   "nbconvert_exporter": "python",
   "pygments_lexer": "ipython3",
   "version": "3.7.4"
  }
 },
 "nbformat": 4,
 "nbformat_minor": 2
}
