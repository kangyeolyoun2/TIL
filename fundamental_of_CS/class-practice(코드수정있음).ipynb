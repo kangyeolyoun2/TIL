{
 "cells": [
  {
   "cell_type": "code",
   "execution_count": 2,
   "metadata": {},
   "outputs": [],
   "source": [
    "class Human:\n",
    "    \n",
    "    population = 0\n",
    "    \n",
    "    def __init__(self, max_health = 50):\n",
    "        self.max_health = max_health\n",
    "        self.health = max_health\n",
    "        Human.population += 1\n",
    "        self.status = \"alive\"\n",
    "        \n",
    "    def set_health(self, var, attack_kind):\n",
    "        self.health += var\n",
    "        if self.health > self.max_health:\n",
    "            self.health = self.max_health\n",
    "        elif self.health <= 0:\n",
    "            self.health = 0\n",
    "            self.status = \"dead\"\n",
    "            \n",
    "    @property\n",
    "    def status(self):\n",
    "        return self.__status\n",
    "    \n",
    "    @status.setter\n",
    "    def status(self, status):\n",
    "        if status in (\"alive\", \"dead\"):\n",
    "            self.__status = status\n",
    "        if status == \"dead\":\n",
    "            Human.population -= 1\n",
    "            \n",
    "    def summary(self):\n",
    "        print(\"Health: {} : {}, Status : {}\".format(self.health, self.max_health, self.status))"
   ]
  },
  {
   "cell_type": "code",
   "execution_count": 3,
   "metadata": {},
   "outputs": [],
   "source": [
    "# Attacker class\n",
    "\n",
    "from abc import *\n",
    "\n",
    "class Attacker(Human, metaclass =ABCMeta):\n",
    "    def __init__(self, attack_pow, attack_kind):\n",
    "        super().__init__()\n",
    "        self.attack_kind = attack_kind\n",
    "        self.attack_pow = attack_pow\n",
    "        self.kill_count = 0\n",
    "        \n",
    "    @abstractmethod\n",
    "    def attack(self, other):\n",
    "        pass\n",
    "    \n",
    "    "
   ]
  },
  {
   "cell_type": "code",
   "execution_count": 4,
   "metadata": {},
   "outputs": [],
   "source": [
    "#class Marin\n",
    "\n",
    "class Marin(Attacker):\n",
    "    def __init__(self, attack_pow = 10, attack_kind = \"rifle\"):\n",
    "        super().__init__(attack_pow, attack_kind)\n",
    "\n",
    "    def attack(self, obj):\n",
    "        if obj.status == \"dead\":\n",
    "            print(\"already dead\")\n",
    "            return\n",
    "        \n",
    "        obj.set_health(-self.attack_pow, self.attack_kind)\n",
    "        if obj.status == \"dead\":\n",
    "            self.kill_count += 1\n",
    "            print(\"kill\")\n",
    "        \n",
    "    \n",
    "    \n",
    "        "
   ]
  },
  {
   "cell_type": "code",
   "execution_count": 5,
   "metadata": {},
   "outputs": [],
   "source": [
    "#class Ghost\n",
    "\n",
    "class Ghost(Attacker):\n",
    "    def __init__(self, attack_pow = 7, attack_kind = \"sniper rifle\"):\n",
    "        super().__init__(attack_pow, attack_kind)\n",
    "\n",
    "    def attack(self, obj):\n",
    "        if obj.status == \"dead\":\n",
    "            print(\"already dead\")\n",
    "            return\n",
    "        \n",
    "        obj.set_health(-self.attack_pow, self.attack_kind)\n",
    "        if obj.status == \"dead\":\n",
    "            self.kill_count += 1\n",
    "            print(\"kill\")\n",
    "        \n",
    "    \n",
    "    \n",
    "        "
   ]
  },
  {
   "cell_type": "code",
   "execution_count": 6,
   "metadata": {},
   "outputs": [],
   "source": [
    "class Medic(Human):\n",
    "    def __init__(self, max_health = 60):\n",
    "        super().__init__()\n",
    "        self.heal_box = 3\n",
    "        self.heal_pow = 30\n",
    "        \n",
    "    def set_health(self, var, attack_kind):\n",
    "        if attack_kind == \"sniper rifle\":\n",
    "            var *= 2\n",
    "        self.health += var\n",
    "\n",
    "    def heal(self, obj):\n",
    "        if obj.status == \"dead\":\n",
    "            print(\"already dead\")\n",
    "            return\n",
    "        if self.heal_box <= 0:\n",
    "            print(\"Don't have heal box\")\n",
    "            return\n",
    "        \n",
    "        if obj.status == \"alive\" and (obj.health < obj.max_health):\n",
    "            obj.set_health(self.heal_pow, \"heal\")\n",
    "            self.heal_box -= 1\n",
    "        \n",
    "    def summary(self):\n",
    "        print(\"Health: {} : {}, Status : {}, healbox: {}\".format(self.health, self.max_health, self.status, self.heal_box))"
   ]
  },
  {
   "cell_type": "code",
   "execution_count": null,
   "metadata": {},
   "outputs": [],
   "source": []
  },
  {
   "cell_type": "code",
   "execution_count": 7,
   "metadata": {},
   "outputs": [],
   "source": [
    "marin1, marin2, marin3 = Marin(), Marin(), Marin()\n",
    "ghost1 = Ghost()\n",
    "medic1 = Medic()"
   ]
  },
  {
   "cell_type": "code",
   "execution_count": 8,
   "metadata": {},
   "outputs": [
    {
     "data": {
      "text/plain": [
       "5"
      ]
     },
     "execution_count": 8,
     "metadata": {},
     "output_type": "execute_result"
    }
   ],
   "source": [
    "Human.population"
   ]
  },
  {
   "cell_type": "code",
   "execution_count": 18,
   "metadata": {},
   "outputs": [
    {
     "name": "stdout",
     "output_type": "stream",
     "text": [
      "already dead\n"
     ]
    }
   ],
   "source": [
    "marin1.attack(marin2)"
   ]
  },
  {
   "cell_type": "code",
   "execution_count": 10,
   "metadata": {},
   "outputs": [
    {
     "name": "stdout",
     "output_type": "stream",
     "text": [
      "Health: 40 : 50, Status : alive\n"
     ]
    }
   ],
   "source": [
    "marin2.summary()"
   ]
  },
  {
   "cell_type": "code",
   "execution_count": 16,
   "metadata": {},
   "outputs": [
    {
     "data": {
      "text/plain": [
       "1"
      ]
     },
     "execution_count": 16,
     "metadata": {},
     "output_type": "execute_result"
    }
   ],
   "source": [
    "marin1.kill_count"
   ]
  },
  {
   "cell_type": "code",
   "execution_count": null,
   "metadata": {},
   "outputs": [],
   "source": []
  },
  {
   "cell_type": "code",
   "execution_count": 37,
   "metadata": {},
   "outputs": [
    {
     "name": "stdout",
     "output_type": "stream",
     "text": [
      "already dead\n"
     ]
    }
   ],
   "source": [
    "marin1.attack(marin3)"
   ]
  },
  {
   "cell_type": "code",
   "execution_count": 31,
   "metadata": {},
   "outputs": [
    {
     "name": "stdout",
     "output_type": "stream",
     "text": [
      "Health: 50 : 50, Status : alive\n"
     ]
    }
   ],
   "source": [
    "marin3.summary()"
   ]
  },
  {
   "cell_type": "code",
   "execution_count": 40,
   "metadata": {},
   "outputs": [
    {
     "name": "stdout",
     "output_type": "stream",
     "text": [
      "already dead\n"
     ]
    }
   ],
   "source": [
    "medic1.heal(marin3)"
   ]
  },
  {
   "cell_type": "code",
   "execution_count": 42,
   "metadata": {},
   "outputs": [
    {
     "name": "stdout",
     "output_type": "stream",
     "text": [
      "Health: 50 : 50, Status : alive, healbox: 2\n"
     ]
    }
   ],
   "source": [
    "medic1.summary()"
   ]
  },
  {
   "cell_type": "code",
   "execution_count": 27,
   "metadata": {},
   "outputs": [
    {
     "data": {
      "text/plain": [
       "'alive'"
      ]
     },
     "execution_count": 27,
     "metadata": {},
     "output_type": "execute_result"
    }
   ],
   "source": [
    "marin1.status"
   ]
  },
  {
   "cell_type": "code",
   "execution_count": 24,
   "metadata": {},
   "outputs": [
    {
     "name": "stdout",
     "output_type": "stream",
     "text": [
      "already dead\n"
     ]
    }
   ],
   "source": [
    "medic1.heal(marin2)"
   ]
  },
  {
   "cell_type": "code",
   "execution_count": 25,
   "metadata": {},
   "outputs": [
    {
     "name": "stdout",
     "output_type": "stream",
     "text": [
      "Health: 50 : 50, Status : alive\n"
     ]
    }
   ],
   "source": [
    "medic1.summary()"
   ]
  },
  {
   "cell_type": "code",
   "execution_count": 31,
   "metadata": {},
   "outputs": [],
   "source": [
    "ghost1.attack(medic1)"
   ]
  },
  {
   "cell_type": "code",
   "execution_count": 33,
   "metadata": {},
   "outputs": [
    {
     "name": "stdout",
     "output_type": "stream",
     "text": [
      "Health: 36 : 50, Status : alive\n"
     ]
    }
   ],
   "source": [
    "medic1.summary()"
   ]
  },
  {
   "cell_type": "code",
   "execution_count": null,
   "metadata": {},
   "outputs": [],
   "source": []
  }
 ],
 "metadata": {
  "kernelspec": {
   "display_name": "Python 3",
   "language": "python",
   "name": "python3"
  },
  "language_info": {
   "codemirror_mode": {
    "name": "ipython",
    "version": 3
   },
   "file_extension": ".py",
   "mimetype": "text/x-python",
   "name": "python",
   "nbconvert_exporter": "python",
   "pygments_lexer": "ipython3",
   "version": "3.7.3"
  }
 },
 "nbformat": 4,
 "nbformat_minor": 2
}
